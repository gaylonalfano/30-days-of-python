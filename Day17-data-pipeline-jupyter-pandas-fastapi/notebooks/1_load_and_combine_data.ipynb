{
 "metadata": {
  "language_info": {
   "codemirror_mode": {
    "name": "ipython",
    "version": 3
   },
   "file_extension": ".py",
   "mimetype": "text/x-python",
   "name": "python",
   "nbconvert_exporter": "python",
   "pygments_lexer": "ipython3",
   "version": "3.8.2-final"
  },
  "orig_nbformat": 2,
  "kernelspec": {
   "name": "python38264bitdaily382venvbb41b6aba4cd476c8a722f3b0420bc74",
   "display_name": "Python 3.8.2 64-bit ('daily-3.8.2': venv)"
  }
 },
 "nbformat": 4,
 "nbformat_minor": 2,
 "cells": [
  {
   "cell_type": "code",
   "execution_count": 1,
   "metadata": {},
   "outputs": [],
   "source": [
    "import os\n",
    "import typing as t\n",
    "import pandas as pd"
   ]
  },
  {
   "cell_type": "code",
   "execution_count": 2,
   "metadata": {
    "tags": []
   },
   "outputs": [],
   "source": [
    "cwd: str = os.getcwd()  # Replacement for: os.path.dirname(os.path.abspath(__file__))\n",
    "BASE_DIR: str = os.path.dirname(cwd)\n",
    "# print(cwd)\n",
    "# print(BASE_DIR)\n",
    "DATA_DIR: str = os.path.join(BASE_DIR, \"data\")  # raw\n",
    "CACHE_DIR: str = os.path.join(BASE_DIR, \"cache\")  # processed\n",
    "os.makedirs(CACHE_DIR, exist_ok=True)"
   ]
  },
  {
   "cell_type": "code",
   "execution_count": 3,
   "metadata": {
    "tags": []
   },
   "outputs": [
    {
     "output_type": "stream",
     "name": "stdout",
     "text": "True\n"
    }
   ],
   "source": [
    "# Let's check whether we have the files locally\n",
    "my_data = os.path.join(DATA_DIR, '2019.csv')\n",
    "print(os.path.exists(my_data))"
   ]
  },
  {
   "cell_type": "code",
   "execution_count": 4,
   "metadata": {},
   "outputs": [
    {
     "output_type": "execute_result",
     "data": {
      "text/plain": "['2008.csv',\n '2020.csv',\n '2009.csv',\n '2019.csv',\n '2018.csv',\n '2001.csv',\n '2015.csv',\n '2014.csv',\n '2000.csv',\n '2016.csv',\n '2002.csv',\n '2003.csv',\n '2017.csv',\n '2013.csv',\n '2007.csv',\n '2006.csv',\n '2012.csv',\n '2004.csv',\n '2010.csv',\n '2011.csv',\n '2005.csv']"
     },
     "metadata": {},
     "execution_count": 4
    }
   ],
   "source": [
    "os.listdir(DATA_DIR)"
   ]
  },
  {
   "cell_type": "code",
   "execution_count": 5,
   "metadata": {
    "tags": []
   },
   "outputs": [
    {
     "output_type": "stream",
     "name": "stdout",
     "text": "2008.csv\n2020.csv\n2009.csv\n2019.csv\n2018.csv\n2001.csv\n2015.csv\n2014.csv\n2000.csv\n2016.csv\n2002.csv\n2003.csv\n2017.csv\n2013.csv\n2007.csv\n2006.csv\n2012.csv\n2004.csv\n2010.csv\n2011.csv\n2005.csv\n"
    }
   ],
   "source": [
    "# Let's combine our data into a single df. Loop through files and add columns\n",
    "# and create dataframes. Store all in list and later concat together into one df.\n",
    "# NOTE: Here's a one-liner: \n",
    "# df = pd.concat([pd.read_csv(fp).assign(New=os.path.basename(fp)) for fp in files])\n",
    "\n",
    "all_dataframes: t.List = []\n",
    "csv_files: t.List[str] = [x for x in os.listdir(DATA_DIR) if x.endswith('.csv')]\n",
    "# print(csv_files)\n",
    "for filename in csv_files:\n",
    "    print(filename)\n",
    "    year: str = filename.replace(\".csv\", \"\")  # or filename[:4]\n",
    "    csv_path: str = os.path.join(DATA_DIR, filename)\n",
    "    # Read csv into temp df\n",
    "    temp_df = pd.read_csv(csv_path)\n",
    "    # Add a \"Year\" and \"filename\" columns with filename value\n",
    "    temp_df[\"year\"] = year\n",
    "    temp_df[\"filename\"] = filename\n",
    "\n",
    "    # Append this dataframe to list of all dataframes\n",
    "    all_dataframes.append(temp_df)\n"
   ]
  },
  {
   "cell_type": "code",
   "execution_count": 6,
   "metadata": {},
   "outputs": [
    {
     "output_type": "display_data",
     "data": {
      "text/plain": "   Rank                                      Release Group       Worldwide  \\\n0     1                                    The Dark Knight  $1,003,045,358   \n1     2  Indiana Jones and the Kingdom of the Crystal S...    $790,653,942   \n2     3                                      Kung Fu Panda    $631,744,560   \n3     4                                            Hancock    $629,443,428   \n4     5                                         Mamma Mia!    $609,841,637   \n\n       Domestic      %       Foreign    %.1  year  filename  \n0  $533,345,358  53.2%  $469,700,000  46.8%  2008  2008.csv  \n1  $317,101,119  40.1%  $473,552,823  59.9%  2008  2008.csv  \n2  $215,434,591  34.1%  $416,309,969  65.9%  2008  2008.csv  \n3  $227,946,274  36.2%  $401,497,154  63.8%  2008  2008.csv  \n4  $144,130,063  23.6%  $465,711,574  76.4%  2008  2008.csv  ",
      "text/html": "<div>\n<style scoped>\n    .dataframe tbody tr th:only-of-type {\n        vertical-align: middle;\n    }\n\n    .dataframe tbody tr th {\n        vertical-align: top;\n    }\n\n    .dataframe thead th {\n        text-align: right;\n    }\n</style>\n<table border=\"1\" class=\"dataframe\">\n  <thead>\n    <tr style=\"text-align: right;\">\n      <th></th>\n      <th>Rank</th>\n      <th>Release Group</th>\n      <th>Worldwide</th>\n      <th>Domestic</th>\n      <th>%</th>\n      <th>Foreign</th>\n      <th>%.1</th>\n      <th>year</th>\n      <th>filename</th>\n    </tr>\n  </thead>\n  <tbody>\n    <tr>\n      <th>0</th>\n      <td>1</td>\n      <td>The Dark Knight</td>\n      <td>$1,003,045,358</td>\n      <td>$533,345,358</td>\n      <td>53.2%</td>\n      <td>$469,700,000</td>\n      <td>46.8%</td>\n      <td>2008</td>\n      <td>2008.csv</td>\n    </tr>\n    <tr>\n      <th>1</th>\n      <td>2</td>\n      <td>Indiana Jones and the Kingdom of the Crystal S...</td>\n      <td>$790,653,942</td>\n      <td>$317,101,119</td>\n      <td>40.1%</td>\n      <td>$473,552,823</td>\n      <td>59.9%</td>\n      <td>2008</td>\n      <td>2008.csv</td>\n    </tr>\n    <tr>\n      <th>2</th>\n      <td>3</td>\n      <td>Kung Fu Panda</td>\n      <td>$631,744,560</td>\n      <td>$215,434,591</td>\n      <td>34.1%</td>\n      <td>$416,309,969</td>\n      <td>65.9%</td>\n      <td>2008</td>\n      <td>2008.csv</td>\n    </tr>\n    <tr>\n      <th>3</th>\n      <td>4</td>\n      <td>Hancock</td>\n      <td>$629,443,428</td>\n      <td>$227,946,274</td>\n      <td>36.2%</td>\n      <td>$401,497,154</td>\n      <td>63.8%</td>\n      <td>2008</td>\n      <td>2008.csv</td>\n    </tr>\n    <tr>\n      <th>4</th>\n      <td>5</td>\n      <td>Mamma Mia!</td>\n      <td>$609,841,637</td>\n      <td>$144,130,063</td>\n      <td>23.6%</td>\n      <td>$465,711,574</td>\n      <td>76.4%</td>\n      <td>2008</td>\n      <td>2008.csv</td>\n    </tr>\n  </tbody>\n</table>\n</div>"
     },
     "metadata": {}
    },
    {
     "output_type": "display_data",
     "data": {
      "text/plain": "     Rank                         Release Group Worldwide Domestic     %  \\\n550   551  Proteus: A Nineteenth Century Vision    $1,246   $1,246  100%   \n551   552          Spooky House 2005 Re-release      $637     $637  100%   \n552   553                           Steve + Sky      $624     $624  100%   \n553   554               The Comedians of Comedy      $549     $549  100%   \n554   555                        The Dark Hours      $423     $423  100%   \n\n    Foreign %.1  year  filename  \n550       -   -  2005  2005.csv  \n551       -   -  2005  2005.csv  \n552       -   -  2005  2005.csv  \n553       -   -  2005  2005.csv  \n554       -   -  2005  2005.csv  ",
      "text/html": "<div>\n<style scoped>\n    .dataframe tbody tr th:only-of-type {\n        vertical-align: middle;\n    }\n\n    .dataframe tbody tr th {\n        vertical-align: top;\n    }\n\n    .dataframe thead th {\n        text-align: right;\n    }\n</style>\n<table border=\"1\" class=\"dataframe\">\n  <thead>\n    <tr style=\"text-align: right;\">\n      <th></th>\n      <th>Rank</th>\n      <th>Release Group</th>\n      <th>Worldwide</th>\n      <th>Domestic</th>\n      <th>%</th>\n      <th>Foreign</th>\n      <th>%.1</th>\n      <th>year</th>\n      <th>filename</th>\n    </tr>\n  </thead>\n  <tbody>\n    <tr>\n      <th>550</th>\n      <td>551</td>\n      <td>Proteus: A Nineteenth Century Vision</td>\n      <td>$1,246</td>\n      <td>$1,246</td>\n      <td>100%</td>\n      <td>-</td>\n      <td>-</td>\n      <td>2005</td>\n      <td>2005.csv</td>\n    </tr>\n    <tr>\n      <th>551</th>\n      <td>552</td>\n      <td>Spooky House 2005 Re-release</td>\n      <td>$637</td>\n      <td>$637</td>\n      <td>100%</td>\n      <td>-</td>\n      <td>-</td>\n      <td>2005</td>\n      <td>2005.csv</td>\n    </tr>\n    <tr>\n      <th>552</th>\n      <td>553</td>\n      <td>Steve + Sky</td>\n      <td>$624</td>\n      <td>$624</td>\n      <td>100%</td>\n      <td>-</td>\n      <td>-</td>\n      <td>2005</td>\n      <td>2005.csv</td>\n    </tr>\n    <tr>\n      <th>553</th>\n      <td>554</td>\n      <td>The Comedians of Comedy</td>\n      <td>$549</td>\n      <td>$549</td>\n      <td>100%</td>\n      <td>-</td>\n      <td>-</td>\n      <td>2005</td>\n      <td>2005.csv</td>\n    </tr>\n    <tr>\n      <th>554</th>\n      <td>555</td>\n      <td>The Dark Hours</td>\n      <td>$423</td>\n      <td>$423</td>\n      <td>100%</td>\n      <td>-</td>\n      <td>-</td>\n      <td>2005</td>\n      <td>2005.csv</td>\n    </tr>\n  </tbody>\n</table>\n</div>"
     },
     "metadata": {}
    }
   ],
   "source": [
    "df_final = pd.concat(all_dataframes)\n",
    "display(df_final.head(), df_final.tail())\n",
    "# display(df_final.tail())"
   ]
  },
  {
   "cell_type": "code",
   "execution_count": 7,
   "metadata": {},
   "outputs": [],
   "source": [
    "# Export final combined dataframe to CACHE_DIR as CSV\n",
    "dataset = os.path.join(CACHE_DIR, \"movies-box-office-dataset.csv\")\n",
    "df_final.to_csv(dataset, index=False)"
   ]
  },
  {
   "cell_type": "markdown",
   "metadata": {},
   "source": []
  }
 ]
}