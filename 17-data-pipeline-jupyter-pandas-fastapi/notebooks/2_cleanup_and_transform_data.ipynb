{
 "metadata": {
  "language_info": {
   "codemirror_mode": {
    "name": "ipython",
    "version": 3
   },
   "file_extension": ".py",
   "mimetype": "text/x-python",
   "name": "python",
   "nbconvert_exporter": "python",
   "pygments_lexer": "ipython3",
   "version": "3.8.2-final"
  },
  "orig_nbformat": 2,
  "kernelspec": {
   "name": "python38264bitdaily382venvbb41b6aba4cd476c8a722f3b0420bc74",
   "display_name": "Python 3.8.2 64-bit ('daily-3.8.2': venv)"
  }
 },
 "nbformat": 4,
 "nbformat_minor": 2,
 "cells": [
  {
   "cell_type": "code",
   "execution_count": 6,
   "metadata": {},
   "outputs": [],
   "source": [
    "import os\n",
    "import typing as t\n",
    "import pandas as pd"
   ]
  },
  {
   "cell_type": "code",
   "execution_count": 9,
   "metadata": {},
   "outputs": [],
   "source": [
    "cwd: str = os.getcwd()  # Replacement for: os.path.dirname(os.path.abspath(__file__))\n",
    "BASE_DIR: str = os.path.dirname(cwd)\n",
    "# print(cwd)\n",
    "# print(BASE_DIR)\n",
    "DATA_DIR: str = os.path.join(BASE_DIR, \"data\")  # raw\n",
    "CACHE_DIR: str = os.path.join(BASE_DIR, \"cache\")  # processed\n",
    "os.makedirs(CACHE_DIR, exist_ok=True)\n",
    "\n",
    "# Raw combined file to process\n",
    "working_file: str = os.path.join(CACHE_DIR, \"movies-box-office-dataset.csv\")\n",
    "output_file: str = os.path.join(CACHE_DIR, \"movies-box-office-dataset-cleaned.csv\")"
   ]
  },
  {
   "cell_type": "code",
   "execution_count": 10,
   "metadata": {},
   "outputs": [
    {
     "output_type": "execute_result",
     "data": {
      "text/plain": "   Rank                                      Release Group       Worldwide  \\\n0     1                                    The Dark Knight  $1,003,045,358   \n1     2  Indiana Jones and the Kingdom of the Crystal S...    $790,653,942   \n2     3                                      Kung Fu Panda    $631,744,560   \n3     4                                            Hancock    $629,443,428   \n4     5                                         Mamma Mia!    $609,841,637   \n\n       Domestic      %       Foreign    %.1  year  filename  \n0  $533,345,358  53.2%  $469,700,000  46.8%  2008  2008.csv  \n1  $317,101,119  40.1%  $473,552,823  59.9%  2008  2008.csv  \n2  $215,434,591  34.1%  $416,309,969  65.9%  2008  2008.csv  \n3  $227,946,274  36.2%  $401,497,154  63.8%  2008  2008.csv  \n4  $144,130,063  23.6%  $465,711,574  76.4%  2008  2008.csv  ",
      "text/html": "<div>\n<style scoped>\n    .dataframe tbody tr th:only-of-type {\n        vertical-align: middle;\n    }\n\n    .dataframe tbody tr th {\n        vertical-align: top;\n    }\n\n    .dataframe thead th {\n        text-align: right;\n    }\n</style>\n<table border=\"1\" class=\"dataframe\">\n  <thead>\n    <tr style=\"text-align: right;\">\n      <th></th>\n      <th>Rank</th>\n      <th>Release Group</th>\n      <th>Worldwide</th>\n      <th>Domestic</th>\n      <th>%</th>\n      <th>Foreign</th>\n      <th>%.1</th>\n      <th>year</th>\n      <th>filename</th>\n    </tr>\n  </thead>\n  <tbody>\n    <tr>\n      <th>0</th>\n      <td>1</td>\n      <td>The Dark Knight</td>\n      <td>$1,003,045,358</td>\n      <td>$533,345,358</td>\n      <td>53.2%</td>\n      <td>$469,700,000</td>\n      <td>46.8%</td>\n      <td>2008</td>\n      <td>2008.csv</td>\n    </tr>\n    <tr>\n      <th>1</th>\n      <td>2</td>\n      <td>Indiana Jones and the Kingdom of the Crystal S...</td>\n      <td>$790,653,942</td>\n      <td>$317,101,119</td>\n      <td>40.1%</td>\n      <td>$473,552,823</td>\n      <td>59.9%</td>\n      <td>2008</td>\n      <td>2008.csv</td>\n    </tr>\n    <tr>\n      <th>2</th>\n      <td>3</td>\n      <td>Kung Fu Panda</td>\n      <td>$631,744,560</td>\n      <td>$215,434,591</td>\n      <td>34.1%</td>\n      <td>$416,309,969</td>\n      <td>65.9%</td>\n      <td>2008</td>\n      <td>2008.csv</td>\n    </tr>\n    <tr>\n      <th>3</th>\n      <td>4</td>\n      <td>Hancock</td>\n      <td>$629,443,428</td>\n      <td>$227,946,274</td>\n      <td>36.2%</td>\n      <td>$401,497,154</td>\n      <td>63.8%</td>\n      <td>2008</td>\n      <td>2008.csv</td>\n    </tr>\n    <tr>\n      <th>4</th>\n      <td>5</td>\n      <td>Mamma Mia!</td>\n      <td>$609,841,637</td>\n      <td>$144,130,063</td>\n      <td>23.6%</td>\n      <td>$465,711,574</td>\n      <td>76.4%</td>\n      <td>2008</td>\n      <td>2008.csv</td>\n    </tr>\n  </tbody>\n</table>\n</div>"
     },
     "metadata": {},
     "execution_count": 10
    }
   ],
   "source": [
    "df = pd.read_csv(working_file)\n",
    "df.head()"
   ]
  },
  {
   "cell_type": "code",
   "execution_count": 14,
   "metadata": {},
   "outputs": [
    {
     "output_type": "execute_result",
     "data": {
      "text/plain": "Index(['Rank', 'Release_Group', 'Worldwide', 'Domestic', 'Domestic_%',\n       'Foreign', 'Foreign_%', 'Year', 'Filename'],\n      dtype='object')"
     },
     "metadata": {},
     "execution_count": 14
    }
   ],
   "source": [
    "# Rename the columns\n",
    "df.rename(columns={\n",
    "    '%': 'Domestic %',\n",
    "    '%.1': 'Foreign %',\n",
    "    'year': 'Year',\n",
    "    'filename': 'Filename'\n",
    "}, inplace=True)\n",
    "\n",
    "df.columns = df.columns.str.replace(\" \", \"_\")\n",
    "df.columns"
   ]
  },
  {
   "cell_type": "code",
   "execution_count": 16,
   "metadata": {},
   "outputs": [
    {
     "output_type": "execute_result",
     "data": {
      "text/plain": "Rank              int64\nRelease_Group    object\nWorldwide         int64\nDomestic          int64\nDomestic_%       object\nForeign           int64\nForeign_%        object\nYear              int64\nFilename         object\ndtype: object"
     },
     "metadata": {},
     "execution_count": 16
    }
   ],
   "source": [
    "# Clean the symbols from the strings. Different than tutorial.\n",
    "# Will use df.apply(axis=1) to apply this custom func to df.\n",
    "def remove_symbols_from_str(str_value: str) -> str:\n",
    "    \"\"\"\n",
    "    Removes '$,' symbols/punctuation from values.\n",
    "    \"\"\"\n",
    "    cleaned_str_value: str = str_value.replace(\"$\", \"\").replace(\",\", \"\")\n",
    "    return cleaned_str_value\n",
    "\n",
    "def convert_str_to_int(str_value: str) -> int:\n",
    "    \"\"\"\n",
    "    Converts the string value to integer data type.\n",
    "    \"\"\"\n",
    "    try:\n",
    "        int_value: int = int(str_value)\n",
    "    except ValueError:\n",
    "        # Some currencies have \"-\" values\n",
    "        int_value: int = 0\n",
    "    return int_value\n",
    "\n",
    "cols_to_clean: t.List[str] = ['Worldwide', 'Domestic', 'Foreign']\n",
    "def remove_symbols_and_convert(row, cols: t.List[str] = cols_to_clean):\n",
    "    \"\"\"\n",
    "    Traverses a Pandas DataFrame row and removes symbols\n",
    "    from string and converts to integer.\n",
    "    Ex. $144,130,063 -> 144130063\n",
    "\n",
    "    row = Pandas Series\n",
    "    cols = List of columns to clean within row \n",
    "    \"\"\"\n",
    "    for col in cols:\n",
    "        current_val: str = row[col]\n",
    "        cleaned_val: int = convert_str_to_int(remove_symbols_from_str(current_val))\n",
    "        # Reassign to update the row\n",
    "        row[col] = cleaned_val\n",
    "    \n",
    "    return row\n",
    "\n",
    "df_clean = df.apply(remove_symbols_and_convert, axis=1)  # axis=1 traverse COLS\n",
    "df_clean.dtypes\n",
    "\n"
   ]
  },
  {
   "cell_type": "code",
   "execution_count": 19,
   "metadata": {},
   "outputs": [
    {
     "output_type": "execute_result",
     "data": {
      "text/plain": "Rank               int64\nRelease_Group     object\nWorldwide          int64\nDomestic           int64\nDomestic_%       float64\nForeign            int64\nForeign_%        float64\nYear               int64\nFilename          object\ndtype: object"
     },
     "metadata": {},
     "execution_count": 19
    }
   ],
   "source": [
    "# Address the % percentage columns to convert to FLOAT\n",
    "df_clean['Domestic_%'] = df_clean['Domestic'] / df_clean['Worldwide']\n",
    "df_clean['Foreign_%'] = df_clean['Foreign'] / df_clean['Worldwide']\n",
    "df_clean.dtypes"
   ]
  },
  {
   "cell_type": "code",
   "execution_count": 26,
   "metadata": {},
   "outputs": [
    {
     "output_type": "execute_result",
     "data": {
      "text/plain": "Rank               int64\nRelease_Group     object\nWorldwide          int64\nDomestic           int64\nDomestic_%       float64\nForeign            int64\nForeign_%        float64\nYear               int64\nFilename          object\ndtype: object"
     },
     "metadata": {},
     "execution_count": 26
    }
   ],
   "source": [
    "# Sort by Worldwide value and reset index and 'Rank' values\n",
    "# This will get all movies to share single Index\n",
    "df_clean.sort_values(by=['Worldwide'], ascending=False, inplace=True)\n",
    "df_clean.reset_index(drop=True, inplace=True)\n",
    "\n",
    "# Update 'Rank' to be aligned with new Index + 1\n",
    "df_clean.index\n",
    "df_clean['Rank'] = df_clean.index + 1\n",
    "df_clean.head()\n",
    "df_clean.dtypes"
   ]
  },
  {
   "cell_type": "code",
   "execution_count": 29,
   "metadata": {
    "tags": []
   },
   "outputs": [],
   "source": [
    "# Export processed/cleaned dataset to CSV in 'output_file' path\n",
    "# Preview the export:\n",
    "# print(df_clean[:5].to_csv())\n",
    "df_clean.to_csv(output_file, index=False)"
   ]
  },
  {
   "cell_type": "code",
   "execution_count": null,
   "metadata": {},
   "outputs": [],
   "source": []
  }
 ]
}