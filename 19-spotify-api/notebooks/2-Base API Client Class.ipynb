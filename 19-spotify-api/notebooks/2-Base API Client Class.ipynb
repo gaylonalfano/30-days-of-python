{
 "cells": [
  {
   "cell_type": "markdown",
   "metadata": {},
   "source": [
    "# Notes\n",
    "## Authorization\n",
    "* Need to use `client_id` and `client_secret` to retrieve a auth token that will allow us to interact with the Spotify API service.\n",
    "* Typically authenticate once, retrieve a token which is then attached to your session. During your current session you'll be able to interact/make multiple requests with the service. This allows you to not have to login every time to access your session.\n",
    "* Handy [Authorization Flow Guide](https://developer.spotify.com/documentation/general/guides/authorization-guide/) from Spotify. We are buidling a **client** to interact with Spotify's API. You have to authenticate how a *user* authenticates with your *client* **and** Spotify at the same time (advanced - not covered fully in this tutorial). We're only using the **Client Credentials** flow, which requires a `Client ID` and `Secret Key` and we'll get in return an `Access Token`. This approach won't give give access to manage private user data, just general data only.\n",
    "* Our **client** is the application we're building and it (the app) needs to request authorization by sending a `POST` request.\n",
    "* `base64` is a more secure string format. For non-Base 64 encoded strings, you generally can build something like `client_creds = f\"{client_id}:{client_secret}\"`. You can encode/decode \b\b`str` to bytes using `str.encode()` and `str.encode().decode()`. The Spotify backend API is going to take our base64 encoded `str` (not `bytes`) we pass and then `base64.base64decode()` to verify credentials. Steps to do this:\n",
    "    1. First take `str` and encode to `bytes` using `str.encode()`\n",
    "    2. Then encode this bytestring to base64 using `base64.b64encode(bytestring)`\n",
    "    3. Next, decode this base64 `bytes` so it's back to `str` using `client_creds_b64.decode()` (**not** `b64decode()`).\n",
    "* The token response data we get after making the `POST` request to authorize our client has the `access_token` and the `expires_in` (seconds) details. We can use `datetime` and the `timedelta(seconds=expires_in)` to create an easy `expires` `datetime.datetime` object for tracking. We can check whether our token expired and to fetch a new one: `did_expire: bool = expires < now`.\n",
    "## Base API Client Class\n",
    "* Once we have our `access_token` then we can use it. However, the `expires` and `access_tokens` are **state-like** items, so they will change over time. So, better would be to create a `BaseClient` **class** that can adjust/respond to these state changes in order to make our API calls through the class (and its methods) rather than just through simple functions like we did in `Auth.ipynb`. We're going to turn our functions into class methods.\n",
    "* Create our first class `SpotifyAPI(object)` with some general-purpose variables (nothing hard-coded since we want to reuse this for various sessions). We can pass the `client_id` and `client_secret` to the `__init__` function. The `super().__init__(*args, **kwargs)` allows us to call the class our class is inheriting from *directly*. Currently we're not doing that but in the future if we wanted to then having this line allows us to do that. \n",
    "* ?? We set `client_id` and `client_secret` to `None` by default for the class. However, we need to **update** them...?? Aren't these already available though since we set them inside the __init__ function? I think so but this makes it cleaner so we don't have to `{self.client_id}`? Not sure though as he mentioned \"updating\" these values...\n",
    "    * I *believe* we have to update the class variables within these methods because when we initialize/create a new instance of the class, we only pass in `client_id` and `client_secret` (based on our `__init__`). However, the other class variables (`access_token`, `expires`, etc.) are defaulted to `None` so our class methods need to update these values e.g, `self.access_token = access_token` (once we have retrieved the true `access_token`).\n",
    "* **Refactor** Could refactor the base class to have a method that handles the response data instead of all within the current `perform_authorization()` method.\n",
    "* **Refactor** Need to improve how we get the `access_token` because when it does expire, ideally it will go fetch another one automatically by re-performing this authorization function again.\n",
    "* Eventually going to take this base class and expand it to allow for something like `client.search` (`spotify.search`).\n",
    "https://developer.spotify.com/documentation/web-api/reference/"
   ]
  },
  {
   "cell_type": "code",
   "execution_count": 3,
   "metadata": {},
   "outputs": [],
   "source": [
    "import typing as t\n",
    "import requests\n",
    "import base64\n",
    "import datetime"
   ]
  },
  {
   "cell_type": "code",
   "execution_count": 4,
   "metadata": {},
   "outputs": [],
   "source": [
    "# Snag creds from developer.spotify.com dashboard\n",
    "client_id: str\n",
    "client_secret: str"
   ]
  },
  {
   "cell_type": "code",
   "execution_count": 5,
   "metadata": {},
   "outputs": [],
   "source": [
    "# Declare our first class with helper methods\n",
    "class SpotifyAPIClient(object):\n",
    "    access_token: str = None\n",
    "    access_token_expires = datetime.datetime.now()  # or None\n",
    "    access_token_did_expire: bool = True\n",
    "    client_id: str = None\n",
    "    client_secret: str = None\n",
    "    token_url: str = \"https://accounts.spotify.com/api/token\"\n",
    "\n",
    "    def __init__(self, client_id, client_secret, *args, **kwargs):\n",
    "        # Call super() so we can call any class we inherit from directly!\n",
    "        super().__init__(*args, **kwargs)\n",
    "        self.client_id = client_id\n",
    "        self.client_secret = client_secret\n",
    "\n",
    "    def get_client_credentials(self) -> str:\n",
    "        \"\"\"\n",
    "        Returns a Base 64 encoded string (not bytes!)\n",
    "        \"\"\"\n",
    "        # Need to declare our client_id and client_secret vars\n",
    "        # The self obj has them but need to update within this\n",
    "        # method's scope:\n",
    "        # NOTE ?? Aren't these already available though since we\n",
    "        # set them inside the __init__ function? I think so but\n",
    "        # this makes it cleaner so we don't have to {self.client_id}??\n",
    "        client_id: str = self.client_id\n",
    "        client_secret: str = self.client_secret\n",
    "\n",
    "        # Update the client_id and client_secret values\n",
    "        if client_id is None or client_secret is None:\n",
    "            raise Exception(\"You must set client_id and client_secret.\")\n",
    "\n",
    "        # Build the credentials str required by Spotify:\n",
    "        client_creds: str = f\"{client_id}:{client_secret}\"\n",
    "        client_creds_bytes: bytes = client_creds.encode()\n",
    "        client_creds_b64: bytes = base64.b64encode(client_creds_bytes)\n",
    "        # NOTE We must .decode() back to 'str' type instead of 'bytes'\n",
    "        client_creds_b64_decoded: str = client_creds_b64.decode()\n",
    "\n",
    "        return client_creds_b64_decoded\n",
    "\n",
    "    def get_token_headers(self) -> t.Dict:\n",
    "        \"\"\"\n",
    "        Pass 'Authorization' header with b64 encoded creds\n",
    "        \"Authorization\": \"Basic <base64 encoded client_id:client_secret>\"\n",
    "        \"\"\"\n",
    "        client_creds_b64_decoded: str = self.get_client_credentials()\n",
    "\n",
    "        token_headers: t.Dict = {\n",
    "            \"Content-Type\": \"application/x-www-form-urlencoded\",\n",
    "            \"Authorization\": f\"Basic {client_creds_b64_decoded}\"\n",
    "        }\n",
    "\n",
    "        return token_headers\n",
    "    \n",
    "    def get_token_data(self) -> t.Dict:\n",
    "        token_data: t.Dict = {\n",
    "            \"grant_type\": \"client_credentials\",\n",
    "        }\n",
    "\n",
    "        return token_data\n",
    "\n",
    "    def perform_authorization(self) -> bool:\n",
    "        \"\"\"\n",
    "        Extracts the access token and other variables for authorizing\n",
    "        the client app with Spotify API. It uses helper methods to get\n",
    "        client credentials, convert to Base 64, get token headers and\n",
    "        token data. \n",
    "        \"\"\"\n",
    "        # TODO Re-run authorization if access_token expires\n",
    "        # Use helper methods to retrieve components for sending request\n",
    "        token_url: str = self.token_url\n",
    "        token_data: t.Dict = self.get_token_data()\n",
    "        token_headers: t.Dict = self.get_token_headers()\n",
    "\n",
    "        # Now we have everything for authentication so it's time to make the POST request\n",
    "        r = requests.post(token_url, data=token_data, headers=token_headers)\n",
    "\n",
    "        if r.status_code not in range(200, 299):\n",
    "            print(f\"Failed request! {r.status_code}\")\n",
    "            return False\n",
    "\n",
    "        # Let's store the access token, expires in (seconds), etc.\n",
    "        data: t.Dict = r.json()\n",
    "        now = datetime.datetime.now()\n",
    "        access_token: str = data['access_token']\n",
    "        expires_in: float = data['expires_in']\n",
    "        expires = now + datetime.timedelta(seconds=expires_in)\n",
    "\n",
    "        # Update our class variables with these updated values\n",
    "        self.access_token = access_token\n",
    "        self.access_token_expires = expires  # datetime.datetime obj\n",
    "        self.access_token_did_expire = expires < now  # refetch the token if True\n",
    "\n",
    "        return True  # authorization successful\n"
   ]
  },
  {
   "cell_type": "code",
   "execution_count": 7,
   "metadata": {},
   "outputs": [],
   "source": [
    "# Now let's test out our base class (client app)\n",
    "# client = SpotifyAPI(client_id, client_secret)\n",
    "# Could generalize this client for multiple services\n",
    "spotify = SpotifyAPIClient(client_id, client_secret)"
   ]
  },
  {
   "cell_type": "code",
   "execution_count": 8,
   "metadata": {},
   "outputs": [
    {
     "output_type": "execute_result",
     "data": {
      "text/plain": "True"
     },
     "metadata": {},
     "execution_count": 8
    }
   ],
   "source": [
    "# Perform authorization\n",
    "spotify.perform_authorization()"
   ]
  },
  {
   "cell_type": "code",
   "execution_count": 9,
   "metadata": {},
   "outputs": [
    {
     "output_type": "execute_result",
     "data": {
      "text/plain": "'BQDz7lDDe7xepdSMHC5iMgeuB3O_z0lBJ-buUaWqFB1NlmxvOMpcjZUaBzx-_qmsKFwNWuC-9oLxPtSA2UQ'"
     },
     "metadata": {},
     "execution_count": 9
    }
   ],
   "source": [
    "spotify.access_token"
   ]
  },
  {
   "cell_type": "code",
   "execution_count": null,
   "metadata": {},
   "outputs": [],
   "source": []
  }
 ],
 "metadata": {
  "kernelspec": {
   "display_name": "Python 3.8.2 64-bit ('daily-3.8.2': venv)",
   "language": "python",
   "name": "python38264bitdaily382venvbb41b6aba4cd476c8a722f3b0420bc74"
  },
  "language_info": {
   "codemirror_mode": {
    "name": "ipython",
    "version": 3
   },
   "file_extension": ".py",
   "mimetype": "text/x-python",
   "name": "python",
   "nbconvert_exporter": "python",
   "pygments_lexer": "ipython3",
   "version": "3.8.2-final"
  }
 },
 "nbformat": 4,
 "nbformat_minor": 4
}