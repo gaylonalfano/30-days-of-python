{
 "cells": [
  {
   "cell_type": "markdown",
   "metadata": {},
   "source": [
    "# Notes\n",
    "## Authorization\n",
    "* Need to use `client_id` and `client_secret` to retrieve a auth token that will allow us to interact with the Spotify API service.\n",
    "* Typically authenticate once, retrieve a token which is then attached to your session. During your current session you'll be able to interact/make multiple requests with the service. This allows you to not have to login every time to access your session.\n",
    "* Handy [Authorization Flow Guide](https://developer.spotify.com/documentation/general/guides/authorization-guide/) from Spotify. We are buidling a **client** to interact with Spotify's API. You have to authenticate how a *user* authenticates with your *client* **and** Spotify at the same time (advanced - not covered fully in this tutorial). We're only using the **Client Credentials** flow, which requires a `Client ID` and `Secret Key` and we'll get in return an `Access Token`. This approach won't give give access to manage private user data, just general data only.\n",
    "* Our **client** is the application we're building and it (the app) needs to request authorization by sending a `POST` request.\n",
    "* `base64` is a more secure string format. For non-Base 64 encoded strings, you generally can build something like `client_creds = f\"{client_id}:{client_secret}\"`. You can encode/decode \b\b`str` to bytes using `str.encode()` and `str.encode().decode()`. The Spotify backend API is going to take our base64 encoded `str` (not `bytes`) we pass and then `base64.base64decode()` to verify credentials. Steps to do this:\n",
    "    1. First take `str` and encode to `bytes` using `str.encode()`\n",
    "    2. Then encode this bytestring to base64 using `base64.b64encode(bytestring)`\n",
    "    3. Next, decode this base64 `bytes` so it's back to `str` using `client_creds_b64.decode()` (**not** `b64decode()`).\n",
    "* The token response data we get after making the `POST` request to authorize our client has the `access_token` and the `expires_in` (seconds) details. We can use `datetime` and the `timedelta(seconds=expires_in)` to create an easy `expires` `datetime.datetime` object for tracking. We can check whether our token expired and to fetch a new one: `did_expire: bool = expires < now`.\n",
    "## Base API Client Class\n",
    "* Once we have our `access_token` then we can use it. However, the `expires` and `access_tokens` are **state-like** items, so they will change over time. So, better would be to create a `BaseClient` **class** that can adjust/respond to these state changes in order to make our API calls through the class (and its methods) rather than just through simple functions like we did in `Auth.ipynb`. We're going to turn our functions into class methods.\n",
    "* Create our first class `SpotifyAPI(object)` with some general-purpose variables (nothing hard-coded since we want to reuse this for various sessions). We can pass the `client_id` and `client_secret` to the `__init__` function. The `super().__init__(*args, **kwargs)` allows us to call the class our class is inheriting from *directly*. Currently we're not doing that but in the future if we wanted to then having this line allows us to do that. \n",
    "* ?? We set `client_id` and `client_secret` to `None` by default for the class. However, we need to **update** them...?? Aren't these already available though since we set them inside the __init__ function? I think so but this makes it cleaner so we don't have to `{self.client_id}`? Not sure though as he mentioned \"updating\" these values...\n",
    "    * I *believe* we have to update the class variables within these methods because when we initialize/create a new instance of the class, we only pass in `client_id` and `client_secret` (based on our `__init__`). However, the other class variables (`access_token`, `expires`, etc.) are defaulted to `None` so our class methods need to update these values e.g, `self.access_token = access_token` (once we have retrieved the true `access_token`).\n",
    "* **Refactor** Could refactor the base class to have a method that handles the response data instead of all within the current `perform_authorization()` method.\n",
    "* **Refactor** Need to improve how we get the `access_token` because when it does expire, ideally it will go fetch another one automatically by re-performing this authorization function again.\n",
    "* Eventually going to take this base class and expand it to allow for something like `client.search` (`spotify.search`).\n",
    "## Use the Access Token\n",
    "* Following the [Web API](https://developer.spotify.com/documentation/web-api/reference/) docs.\n",
    "* Once we get our `access_token` after `perform_authorization()`, the `token_type: \"bearer\"` instead of `Basic`. So, the initial `token_headers` header of `Authorization` had a `Basic` type. After we perform authorization, we receive `token_type: \"bearer\"`. This means we use `bearer` token moving forward.\n",
    "* We're essentially authorized to interact with the API via our new Client app. That means for each request we make to say, search for various songs or albums, we need to have this `bearer` token attached. Also, for Spotify specifically, we build up a request to query but we pass in all the `data` *directly* inside the `endpoint`/`lookup_url` we pass to `requests.get()`. \n",
    "    * To create this `lookup_url` string, we're going to use `from urllib.parse import urlencode` to help.\n",
    "* We now authenicated and worked with the API via our base class (client app). We have a working example of using the `search` endpoint of the API. However, we don't want to copy/paste the request code each time. Better would be to refactor/improve our `client`/`spotify` app (class) by adding some more helper/utility/convenience class methods to perform these searches, auto-refresh/fetch our `access_token` when it expires, and even allow accessing other endpoints (`artists`, `/v1/albums/{id}`, etc.). \n"
   ]
  },
  {
   "cell_type": "code",
   "execution_count": 11,
   "metadata": {},
   "outputs": [],
   "source": [
    "import typing as t\n",
    "import requests\n",
    "import base64\n",
    "import datetime\n",
    "from urllib.parse import urlencode"
   ]
  },
  {
   "cell_type": "code",
   "execution_count": 2,
   "metadata": {},
   "outputs": [],
   "source": [
    "# Snag creds from developer.spotify.com dashboard\n",
    "client_id: str = \"e99ac0ad2b5c4e329542c2361e28ae40\"\n",
    "client_secret: str = \"ce7cca69ac934a868cdcdedf73107cb6\""
   ]
  },
  {
   "cell_type": "code",
   "execution_count": 3,
   "metadata": {},
   "outputs": [],
   "source": [
    "# Declare our first class with helper methods\n",
    "class SpotifyAPIClient(object):\n",
    "    access_token: str = None\n",
    "    access_token_expires = datetime.datetime.now()  # or None\n",
    "    access_token_did_expire: bool = True\n",
    "    client_id: str = None\n",
    "    client_secret: str = None\n",
    "    token_url: str = \"https://accounts.spotify.com/api/token\"\n",
    "\n",
    "    def __init__(self, client_id, client_secret, *args, **kwargs):\n",
    "        # Call super() so we can call any class we inherit from directly!\n",
    "        super().__init__(*args, **kwargs)\n",
    "        self.client_id = client_id\n",
    "        self.client_secret = client_secret\n",
    "\n",
    "    def get_client_credentials(self) -> str:\n",
    "        \"\"\"\n",
    "        Returns a Base 64 encoded string (not bytes!)\n",
    "        \"\"\"\n",
    "        # Need to declare our client_id and client_secret vars\n",
    "        # The self obj has them but need to update within this\n",
    "        # method's scope:\n",
    "        # NOTE ?? Aren't these already available though since we\n",
    "        # set them inside the __init__ function? I think so but\n",
    "        # this makes it cleaner so we don't have to {self.client_id}??\n",
    "        client_id: str = self.client_id\n",
    "        client_secret: str = self.client_secret\n",
    "\n",
    "        # Update the client_id and client_secret values\n",
    "        if client_id is None or client_secret is None:\n",
    "            raise Exception(\"You must set client_id and client_secret.\")\n",
    "\n",
    "        # Build the credentials str required by Spotify:\n",
    "        client_creds: str = f\"{client_id}:{client_secret}\"\n",
    "        client_creds_bytes: bytes = client_creds.encode()\n",
    "        client_creds_b64: bytes = base64.b64encode(client_creds_bytes)\n",
    "        # NOTE We must .decode() back to 'str' type instead of 'bytes'\n",
    "        client_creds_b64_decoded: str = client_creds_b64.decode()\n",
    "\n",
    "        return client_creds_b64_decoded\n",
    "\n",
    "    def get_token_headers(self) -> t.Dict:\n",
    "        \"\"\"\n",
    "        Pass 'Authorization' header with b64 encoded creds\n",
    "        \"Authorization\": \"Basic <base64 encoded client_id:client_secret>\"\n",
    "        \"\"\"\n",
    "        client_creds_b64_decoded: str = self.get_client_credentials()\n",
    "\n",
    "        token_headers: t.Dict = {\n",
    "            \"Content-Type\": \"application/x-www-form-urlencoded\",\n",
    "            \"Authorization\": f\"Basic {client_creds_b64_decoded}\"\n",
    "        }\n",
    "\n",
    "        return token_headers\n",
    "    \n",
    "    def get_token_data(self) -> t.Dict:\n",
    "        token_data: t.Dict = {\n",
    "            \"grant_type\": \"client_credentials\",\n",
    "        }\n",
    "\n",
    "        return token_data\n",
    "\n",
    "    def perform_authorization(self) -> bool:\n",
    "        \"\"\"\n",
    "        Extracts the access token and other variables for authorizing\n",
    "        the client app with Spotify API. It uses helper methods to get\n",
    "        client credentials, convert to Base 64, get token headers and\n",
    "        token data. \n",
    "        \"\"\"\n",
    "        # TODO Re-run authorization if access_token expires\n",
    "        # Use helper methods to retrieve components for sending request\n",
    "        token_url: str = self.token_url\n",
    "        token_data: t.Dict = self.get_token_data()\n",
    "        token_headers: t.Dict = self.get_token_headers()\n",
    "\n",
    "        # Now we have everything for authentication so it's time to make the POST request\n",
    "        r = requests.post(token_url, data=token_data, headers=token_headers)\n",
    "\n",
    "        if r.status_code not in range(200, 299):\n",
    "            print(f\"Failed request! {r.status_code}\")\n",
    "            return False\n",
    "\n",
    "        # Let's store the access token, expires in (seconds), etc.\n",
    "        data: t.Dict = r.json()\n",
    "        now = datetime.datetime.now()\n",
    "        access_token: str = data['access_token']\n",
    "        expires_in: float = data['expires_in']\n",
    "        expires = now + datetime.timedelta(seconds=expires_in)\n",
    "\n",
    "        # Update our class variables with these updated values\n",
    "        self.access_token = access_token\n",
    "        self.access_token_expires = expires  # datetime.datetime obj\n",
    "        self.access_token_did_expire = expires < now  # refetch the token if True\n",
    "\n",
    "        return True  # authorization successful\n"
   ]
  },
  {
   "cell_type": "code",
   "execution_count": 4,
   "metadata": {},
   "outputs": [],
   "source": [
    "# Now let's test out our base class (client app)\n",
    "# client = SpotifyAPI(client_id, client_secret)\n",
    "# Could generalize this client for multiple services\n",
    "spotify = SpotifyAPIClient(client_id, client_secret)"
   ]
  },
  {
   "cell_type": "code",
   "execution_count": 5,
   "metadata": {},
   "outputs": [
    {
     "output_type": "execute_result",
     "data": {
      "text/plain": "True"
     },
     "metadata": {},
     "execution_count": 5
    }
   ],
   "source": [
    "# Perform authorization\n",
    "spotify.perform_authorization()"
   ]
  },
  {
   "cell_type": "code",
   "execution_count": 12,
   "metadata": {
    "tags": []
   },
   "outputs": [],
   "source": [
    "# Let's save the access token we receive. \n",
    "# It now has 'token_type: \"bearer\"' instead of Basic\n",
    "access_token: str = spotify.access_token\n",
    "# print(access_token)"
   ]
  },
  {
   "cell_type": "code",
   "execution_count": 23,
   "metadata": {
    "tags": []
   },
   "outputs": [
    {
     "output_type": "stream",
     "name": "stdout",
     "text": "https://api.spotify.com/v1/search?q=Time&type=track\n"
    }
   ],
   "source": [
    "# Now use the [docs](https://developer.spotify.com/documentation/web-api/reference/search/search/). We're creating another request\n",
    "headers: t.Dict = {\n",
    "    \"Authorization\": f\"Bearer {access_token}\"\n",
    "}\n",
    "endpoint: str = \"https://api.spotify.com/v1/search\"\n",
    "\n",
    "# We need to pass our 'data' within the url string we send our GET request to\n",
    "# To make this easier we use urlencode\n",
    "data: str = urlencode({\n",
    "    \"q\": \"Time\",\n",
    "    \"type\": \"track\"\n",
    "})\n",
    "\n",
    "# Let's build/concat our 'lookup_url' for use. Don't forget '?' symbol!\n",
    "lookup_url: str = f\"{endpoint}?{data}\"\n",
    "print(lookup_url) # https://api.spotify.com/v1/search?q=Time&type=track\n",
    "\n",
    "# Now that we have the bare minimum requirements, let's make a request\n",
    "r = requests.get(lookup_url, headers=headers)\n",
    "# print(r.status_code)\n",
    "# print(r.json())"
   ]
  },
  {
   "cell_type": "code",
   "execution_count": 25,
   "metadata": {},
   "outputs": [
    {
     "output_type": "execute_result",
     "data": {
      "text/plain": "7de80fd7806b73762',\n       'width': 64}],\n     'name': 'Night Lights',\n     'release_date': '2001-01-01',\n     'release_date_precision': 'day',\n     'total_tracks': 20,\n     'type': 'album',\n     'uri': 'spotify:album:5kQfbxLa8K9n8zYHXJQ7Zx'},\n    'artists': [{'external_urls': {'spotify': 'https://open.spotify.com/artist/7v4imS0moSyGdXyLgVTIV7'},\n      'href': 'https://api.spotify.com/v1/artists/7v4imS0moSyGdXyLgVTIV7',\n      'id': '7v4imS0moSyGdXyLgVTIV7',\n      'name': 'Nat King Cole',\n      'type': 'artist',\n      'uri': 'spotify:artist:7v4imS0moSyGdXyLgVTIV7'}],\n    'available_markets': ['AD',\n     'AE',\n     'AL',\n     'AR',\n     'AT',\n     'AU',\n     'BA',\n     'BE',\n     'BG',\n     'BH',\n     'BO',\n     'BR',\n     'BY',\n     'CA',\n     'CH',\n     'CL',\n     'CO',\n     'CR',\n     'CY',\n     'CZ',\n     'DE',\n     'DK',\n     'DO',\n     'DZ',\n     'EC',\n     'EE',\n     'EG',\n     'ES',\n     'FI',\n     'FR',\n     'GB',\n     'GR',\n     'GT',\n     'HK',\n     'HN',\n     'HR',\n     'HU',\n     'ID',\n     'IE',\n     'IL',\n     'IN',\n     'IS',\n     'IT',\n     'JO',\n     'JP',\n     'KW',\n     'KZ',\n     'LB',\n     'LI',\n     'LT',\n     'LU',\n     'LV',\n     'MA',\n     'MC',\n     'MD',\n     'ME',\n     'MK',\n     'MT',\n     'MX',\n     'MY',\n     'NI',\n     'NL',\n     'NO',\n     'NZ',\n     'OM',\n     'PA',\n     'PE',\n     'PH',\n     'PL',\n     'PS',\n     'PT',\n     'PY',\n     'QA',\n     'RO',\n     'RS',\n     'RU',\n     'SA',\n     'SE',\n     'SG',\n     'SI',\n     'SK',\n     'SV',\n     'TH',\n     'TN',\n     'TR',\n     'TW',\n     'UA',\n     'US',\n     'UY',\n     'VN',\n     'XK',\n     'ZA'],\n    'disc_number': 1,\n    'duration_ms': 155266,\n    'explicit': False,\n    'external_ids': {'isrc': 'USCA20100458'},\n    'external_urls': {'spotify': 'https://open.spotify.com/track/45lTac7VjsyP92PUw9OnLN'},\n    'href': 'https://api.spotify.com/v1/tracks/45lTac7VjsyP92PUw9OnLN',\n    'id': '45lTac7VjsyP92PUw9OnLN',\n    'is_local': False,\n    'name': 'Love Me As Though There Were No Tomorrow - Remastered',\n    'popularity': 52,\n    'preview_url': None,\n    'track_number': 8,\n    'type': 'track',\n    'uri': 'spotify:track:45lTac7VjsyP92PUw9OnLN'},\n   {'album': {'album_type': 'album',\n     'artists': [{'external_urls': {'spotify': 'https://open.spotify.com/artist/6cyfDgIHHkK574rJUHLc9f'},\n       'href': 'https://api.spotify.com/v1/artists/6cyfDgIHHkK574rJUHLc9f',\n       'id': '6cyfDgIHHkK574rJUHLc9f',\n       'name': 'The Philadelphia Orchestra, The Cleveland Orchestra',\n       'type': 'artist',\n       'uri': 'spotify:artist:6cyfDgIHHkK574rJUHLc9f'}],\n     'available_markets': ['AD',\n      'AE',\n      'AL',\n      'AR',\n      'AT',\n      'AU',\n      'BA',\n      'BE',\n      'BG',\n      'BH',\n      'BO',\n      'BR',\n      'BY',\n      'CA',\n      'CH',\n      'CL',\n      'CO',\n      'CR',\n      'CY',\n      'CZ',\n      'DE',\n      'DK',\n      'DO',\n      'DZ',\n      'EC',\n      'EE',\n      'EG',\n      'ES',\n      'FI',\n      'FR',\n      'GB',\n      'GR',\n      'GT',\n      'HK',\n      'HN',\n      'HR',\n      'HU',\n      'ID',\n      'IE',\n      'IL',\n      'IN',\n      'IS',\n      'IT',\n      'JO',\n      'JP',\n      'KW',\n      'KZ',\n      'LB',\n      'LI',\n      'LT',\n      'LU',\n      'LV',\n      'MA',\n      'MC',\n      'MD',\n      'ME',\n      'MK',\n      'MT',\n      'MX',\n      'MY',\n      'NI',\n      'NL',\n      'NO',\n      'NZ',\n      'OM',\n      'PA',\n      'PE',\n      'PH',\n      'PL',\n      'PS',\n      'PT',\n      'PY',\n      'QA',\n      'RO',\n      'RS',\n      'RU',\n      'SA',\n      'SE',\n      'SG',\n      'SI',\n      'SK',\n      'SV',\n      'TH',\n      'TN',\n      'TR',\n      'TW',\n      'UA',\n      'US',\n      'UY',\n      'VN',\n      'XK',\n      'ZA'],\n     'external_urls': {'spotify': 'https://open.spotify.com/album/2Lqna5CKbzGVWIdVI3Yext'},\n     'href': 'https://api.spotify.com/v1/albums/2Lqna5CKbzGVWIdVI3Yext',\n     'id': '2Lqna5CKbzGVWIdVI3Yext',\n     'images': [{'height': 640,\n       'url': 'https://i.scdn.co/image/ab67616d0000b27317ffb3ff099075bacdf3abb3',\n       'width': 640},\n      {'height': 300,\n       'url': 'https://i.scdn.co/image/ab67616d00001e0217ffb3ff099075bacdf3abb3',\n       'width': 300},\n      {'height': 64,\n       'url': 'https://i.scdn.co/image/ab67616d0000485117ffb3ff099075bacdf3abb3',\n       'width': 64}],\n     'name': 'Fright Night: Music That Goes Bump in the Night',\n     'release_date': '1961',\n     'release_date_precision': 'year',\n     'total_tracks': 12,\n     'type': 'album',\n     'uri': 'spotify:album:2Lqna5CKbzGVWIdVI3Yext'},\n    'artists': [{'external_urls': {'spotify': 'https://open.spotify.com/artist/5ihY290YPGc3aY2xTyx7Gy'},\n      'href': 'https://api.spotify.com/v1/artists/5ihY290YPGc3aY2xTyx7Gy',\n      'id': '5ihY290YPGc3aY2xTyx7Gy',\n      'name': 'Edvard Grieg',\n      'type': 'artist',\n      'uri': 'spotify:artist:5ihY290YPGc3aY2xTyx7Gy'},\n     {'external_urls': {'spotify': 'https://open.spotify.com/artist/1Q9HCWdqbiui9pOsDtYkXW'},\n      'href': 'https://api.spotify.com/v1/artists/1Q9HCWdqbiui9pOsDtYkXW',\n      'id': '1Q9HCWdqbiui9pOsDtYkXW',\n      'name': 'Andrew Davis',\n      'type': 'artist',\n      'uri': 'spotify:artist:1Q9HCWdqbiui9pOsDtYkXW'},\n     {'external_urls': {'spotify': 'https://open.spotify.com/artist/09KZU0NsS7jRa5p0SflmGY'},\n      'href': 'https://api.spotify.com/v1/artists/09KZU0NsS7jRa5p0SflmGY',\n      'id': '09KZU0NsS7jRa5p0SflmGY',\n      'name': 'Philharmonia Orchestra',\n      'type': 'artist',\n      'uri': 'spotify:artist:09KZU0NsS7jRa5p0SflmGY'}],\n    'available_markets': ['AD',\n     'AE',\n     'AL',\n     'AR',\n     'AT',\n     'AU',\n     'BA',\n     'BE',\n     'BG',\n     'BH',\n     'BO',\n     'BR',\n     'BY',\n     'CA',\n     'CH',\n     'CL',\n     'CO',\n     'CR',\n     'CY',\n     'CZ',\n     'DE',\n     'DK',\n     'DO',\n     'DZ',\n     'EC',\n     'EE',\n     'EG',\n     'ES',\n     'FI',\n     'FR',\n     'GB',\n     'GR',\n     'GT',\n     'HK',\n     'HN',\n     'HR',\n     'HU',\n     'ID',\n     'IE',\n     'IL',\n     'IN',\n     'IS',\n     'IT',\n     'JO',\n     'JP',\n     'KW',\n     'KZ',\n     'LB',\n     'LI',\n     'LT',\n     'LU',\n     'LV',\n     'MA',\n     'MC',\n     'MD',\n     'ME',\n     'MK',\n     'MT',\n     'MX',\n     'MY',\n     'NI',\n     'NL',\n     'NO',\n     'NZ',\n     'OM',\n     'PA',\n     'PE',\n     'PH',\n     'PL',\n     'PS',\n     'PT',\n     'PY',\n     'QA',\n     'RO',\n     'RS',\n     'RU',\n     'SA',\n     'SE',\n     'SG',\n     'SI',\n     'SK',\n     'SV',\n     'TH',\n     'TN',\n     'TR',\n     'TW',\n     'UA',\n     'US',\n     'UY',\n     'VN',\n     'XK',\n     'ZA'],\n    'disc_number': 1,\n    'duration_ms': 144733,\n    'explicit': False,\n    'external_ids': {'isrc': 'USSM19913397'},\n    'external_urls': {'spotify': 'https://open.spotify.com/track/5zhuWncJsBKrQ1HhmAKNAg'},\n    'href': 'https://api.spotify.com/v1/tracks/5zhuWncJsBKrQ1HhmAKNAg',\n    'id': '5zhuWncJsBKrQ1HhmAKNAg',\n    'is_local': False,\n    'name': 'Peer Gynt, Op. 23: IV. In the Hall of the Mountain King',\n    'popularity': 54,\n    'preview_url': 'https://p.scdn.co/mp3-preview/83faaa9bd3778412e2d9d0f56fd5064c5789b336?cid=e99ac0ad2b5c4e329542c2361e28ae40',\n    'track_number': 3,\n    'type': 'track',\n    'uri': 'spotify:track:5zhuWncJsBKrQ1HhmAKNAg'},\n   {'album': {'album_type': 'album',\n     'artists': [{'external_urls': {'spotify': 'https://open.spotify.com/artist/2qk9voo8llSGYcZ6xrBzKx'},\n       'href': 'https://api.spotify.com/v1/artists/2qk9voo8llSGYcZ6xrBzKx',\n       'id': '2qk9voo8llSGYcZ6xrBzKx',\n       'name': 'Kings of Leon',\n       'type': 'artist',\n       'uri': 'spotify:artist:2qk9voo8llSGYcZ6xrBzKx'}],\n     'available_markets': ['AD',\n      'AE',\n      'AL',\n      'AR',\n      'AT',\n      'AU',\n      'BA',\n      'BE',\n      'BG',\n      'BH',\n      'BO',\n      'BR',\n      'BY',\n      'CA',\n      'CH',\n      'CL',\n      'CO',\n      'CR',\n      'CY',\n      'CZ',\n      'DE',\n      'DK',\n      'DO',\n      'DZ',\n      'EC',\n      'EE',\n      'EG',\n      'ES',\n      'FI',\n      'FR',\n      'GR',\n      'GT',\n      'HK',\n      'HN',\n      'HR',\n      'HU',\n      'ID',\n      'IL',\n      'IN',\n      'IS',\n      'IT',\n      'JO',\n      'JP',\n      'KW',\n      'KZ',\n      'LB',\n      'LI',\n      'LT',\n      'LU',\n      'LV',\n      'MA',\n      'MC',\n      'MD',\n      'ME',\n      'MK',\n      'MT',\n      'MX',\n      'MY',\n      'NI',\n      'NL',\n      'NO',\n      'NZ',\n      'OM',\n      'PA',\n      'PE',\n      'PH',\n      'PL',\n      'PS',\n      'PT',\n      'PY',\n      'QA',\n      'RO',\n      'RS',\n      'RU',\n      'SA',\n      'SE',\n      'SG',\n      'SI',\n      'SK',\n      'SV',\n      'TH',\n      'TN',\n      'TR',\n      'TW',\n      'UA',\n      'US',\n      'UY',\n      'VN',\n      'XK',\n      'ZA'],\n     'external_urls': {'spotify': 'https://open.spotify.com/album/5CZR6ljD0x9fTiS4mh9wMp'},\n     'href': 'https://api.spotify.com/v1/albums/5CZR6ljD0x9fTiS4mh9wMp',\n     'id': '5CZR6ljD0x9fTiS4mh9wMp',\n     'images': [{'height': 640,\n       'url': 'https://i.scdn.co/image/ab67616d0000b2732519d01c0cca06f134eeadd8',\n       'width': 640},\n      {'height': 300,\n       'url': 'https://i.scdn.co/image/ab67616d00001e022519d01c0cca06f134eeadd8',\n       'width': 300},\n      {'height': 64,\n       'url': 'https://i.scdn.co/image/ab67616d000048512519d01c0cca06f134eeadd8',\n       'width': 64}],\n     'name': 'Only By The Night',\n     'release_date': '2008-09-23',\n     'release_date_precision': 'day',\n     'total_tracks': 11,\n     'type': 'album',\n     'uri': 'spotify:album:5CZR6ljD0x9fTiS4mh9wMp'},\n    'artists': [{'external_urls': {'spotify': 'https://open.spotify.com/artist/2qk9voo8llSGYcZ6xrBzKx'},\n      'href': 'https://api.spotify.com/v1/artists/2qk9voo8llSGYcZ6xrBzKx',\n      'id': '2qk9voo8llSGYcZ6xrBzKx',\n      'name': 'Kings of Leon',\n      'type': 'artist',\n      'uri': 'spotify:artist:2qk9voo8llSGYcZ6xrBzKx'}],\n    'available_markets': ['AD',\n     'AE',\n     'AL',\n     'AR',\n     'AT',\n     'AU',\n     'BA',\n     'BE',\n     'BG',\n     'BH',\n     'BO',\n     'BR',\n     'BY',\n     'CA',\n     'CH',\n     'CL',\n     'CO',\n     'CR',\n     'CY',\n     'CZ',\n     'DE',\n     'DK',\n     'DO',\n     'DZ',\n     'EC',\n     'EE',\n     'EG',\n     'ES',\n     'FI',\n     'FR',\n     'GR',\n     'GT',\n     'HK',\n     'HN',\n     'HR',\n     'HU',\n     'ID',\n     'IL',\n     'IN',\n     'IS',\n     'IT',\n     'JO',\n     'JP',\n     'KW',\n     'KZ',\n     'LB',\n     'LI',\n     'LT',\n     'LU',\n     'LV',\n     'MA',\n     'MC',\n     'MD',\n     'ME',\n     'MK',\n     'MT',\n     'MX',\n     'MY',\n     'NI',\n     'NL',\n     'NO',\n     'NZ',\n     'OM',\n     'PA',\n     'PE',\n     'PH',\n     'PL',\n     'PS',\n     'PT',\n     'PY',\n     'QA',\n     'RO',\n     'RS',\n     'RU',\n     'SA',\n     'SE',\n     'SG',\n     'SI',\n     'SK',\n     'SV',\n     'TH',\n     'TN',\n     'TR',\n     'TW',\n     'UA',\n     'US',\n     'UY',\n     'VN',\n     'XK',\n     'ZA'],\n    'disc_number': 1,\n    'duration_ms': 246413,\n    'explicit': False,\n    'external_ids': {'isrc': 'USRC10800299'},\n    'external_urls': {'spotify': 'https://open.spotify.com/track/3YvSaCeNvGlFzIU1cFC5mG'},\n    'href': 'https://api.spotify.com/v1/tracks/3YvSaCeNvGlFzIU1cFC5mG',\n    'id': '3YvSaCeNvGlFzIU1cFC5mG',\n    'is_local': False,\n    'name': 'Crawl',\n    'popularity': 54,\n    'preview_url': 'https://p.scdn.co/mp3-preview/e2ee7c48ac60ce62abe5ace9e81796b96482a610?cid=e99ac0ad2b5c4e329542c2361e28ae40',\n    'track_number': 2,\n    'type': 'track',\n    'uri': 'spotify:track:3YvSaCeNvGlFzIU1cFC5mG'},\n   {'album': {'album_type': 'single',\n     'artists': [{'external_urls': {'spotify': 'https://open.spotify.com/artist/1VPmR4DJC1PlOtd0IADAO0'},\n       'href': 'https://api.spotify.com/v1/artists/1VPmR4DJC1PlOtd0IADAO0',\n       'id': '1VPmR4DJC1PlOtd0IADAO0',\n       'name': '$uicideBoy$',\n       'type': 'artist',\n       'uri': 'spotify:artist:1VPmR4DJC1PlOtd0IADAO0'}],\n     'available_markets': ['AD',\n      'AE',\n      'AL',\n      'AR',\n      'AT',\n      'AU',\n      'BA',\n      'BE',\n      'BG',\n      'BH',\n      'BO',\n      'BR',\n      'BY',\n      'CA',\n      'CH',\n      'CL',\n      'CO',\n      'CR',\n      'CY',\n      'CZ',\n      'DE',\n      'DK',\n      'DO',\n      'DZ',\n      'EC',\n      'EE',\n      'EG',\n      'ES',\n      'FI',\n      'FR',\n      'GB',\n      'GR',\n      'GT',\n      'HK',\n      'HN',\n      'HR',\n      'HU',\n      'ID',\n      'IE',\n      'IL',\n      'IN',\n      'IS',\n      'IT',\n      'JO',\n      'JP',\n      'KW',\n      'KZ',\n      'LB',\n      'LI',\n      'LT',\n      'LU',\n      'LV',\n      'MA',\n      'MC',\n      'MD',\n      'ME',\n      'MK',\n      'MT',\n      'MX',\n      'MY',\n      'NI',\n      'NL',\n      'NO',\n      'NZ',\n      'OM',\n      'PA',\n      'PE',\n      'PH',\n      'PL',\n      'PS',\n      'PT',\n      'PY',\n      'QA',\n      'RO',\n      'RS',\n      'RU',\n      'SA',\n      'SE',\n      'SG',\n      'SI',\n      'SK',\n      'SV',\n      'TH',\n      'TN',\n      'TR',\n      'TW',\n      'UA',\n      'US',\n      'UY',\n      'VN',\n      'XK',\n      'ZA'],\n     'external_urls': {'spotify': 'https://open.spotify.com/album/5c7anxo2hDTxc7NkLq9gd2'},\n     'href': 'https://api.spotify.com/v1/albums/5c7anxo2hDTxc7NkLq9gd2',\n     'id': '5c7anxo2hDTxc7NkLq9gd2',\n     'images': [{'height': 640,\n       'url': 'https://i.scdn.co/image/ab67616d0000b273f5be1b7d71cd9fbfe482901f',\n       'width': 640},\n      {'height': 300,\n       'url': 'https://i.scdn.co/image/ab67616d00001e02f5be1b7d71cd9fbfe482901f',\n       'width': 300},\n      {'height': 64,\n       'url': 'https://i.scdn.co/image/ab67616d00004851f5be1b7d71cd9fbfe482901f',\n       'width': 64}],\n     'name': 'KILL YOURSELF Part XI: The Kingdom Come Saga',\n     'release_date': '2017-05-22',\n     'release_date_precision': 'day',\n     'total_tracks': 3,\n     'type': 'album',\n     'uri': 'spotify:album:5c7anxo2hDTxc7NkLq9gd2'},\n    'artists': [{'external_urls': {'spotify': 'https://open.spotify.com/artist/1VPmR4DJC1PlOtd0IADAO0'},\n      'href': 'https://api.spotify.com/v1/artists/1VPmR4DJC1PlOtd0IADAO0',\n      'id': '1VPmR4DJC1PlOtd0IADAO0',\n      'name': '$uicideBoy$',\n      'type': 'artist',\n      'uri': 'spotify:artist:1VPmR4DJC1PlOtd0IADAO0'}],\n    'available_markets': ['AD',\n     'AE',\n     'AL',\n     'AR',\n     'AT',\n     'AU',\n     'BA',\n     'BE',\n     'BG',\n     'BH',\n     'BO',\n     'BR',\n     'BY',\n     'CA',\n     'CH',\n     'CL',\n     'CO',\n     'CR',\n     'CY',\n     'CZ',\n     'DE',\n     'DK',\n     'DO',\n     'DZ',\n     'EC',\n     'EE',\n     'EG',\n     'ES',\n     'FI',\n     'FR',\n     'GB',\n     'GR',\n     'GT',\n     'HK',\n     'HN',\n     'HR',\n     'HU',\n     'ID',\n     'IE',\n     'IL',\n     'IN',\n     'IS',\n     'IT',\n     'JO',\n     'JP',\n     'KW',\n     'KZ',\n     'LB',\n     'LI',\n     'LT',\n     'LU',\n     'LV',\n     'MA',\n     'MC',\n     'MD',\n     'ME',\n     'MK',\n     'MT',\n     'MX',\n     'MY',\n     'NI',\n     'NL',\n     'NO',\n     'NZ',\n     'OM',\n     'PA',\n     'PE',\n     'PH',\n     'PL',\n     'PS',\n     'PT',\n     'PY',\n     'QA',\n     'RO',\n     'RS',\n     'RU',\n     'SA',\n     'SE',\n     'SG',\n     'SI',\n     'SK',\n     'SV',\n     'TH',\n     'TN',\n     'TR',\n     'TW',\n     'UA',\n     'US',\n     'UY',\n     'VN',\n     'XK',\n     'ZA'],\n    'disc_number': 1,\n    'duration_ms': 134843,\n    'explicit': True,\n    'external_ids': {'isrc': 'QM8DG1702322'},\n    'external_urls': {'spotify': 'https://open.spotify.com/track/5QArbhcHhpW48U4cK3Joj9'},\n    'href': 'https://api.spotify.com/v1/tracks/5QArbhcHhpW48U4cK3Joj9',\n    'id': '5QArbhcHhpW48U4cK3Joj9',\n    'is_local': False,\n    'name': 'Nightmare Choir (I Been Asleep Too Long)',\n    'popularity': 49,\n    'preview_url': None,\n    'track_number': 2,\n    'type': 'track',\n    'uri': 'spotify:track:5QArbhcHhpW48U4cK3Joj9'},\n   {'album': {'album_type': 'album',\n     'artists': [{'external_urls': {'spotify': 'https://open.spotify.com/artist/2qk9voo8llSGYcZ6xrBzKx'},\n       'href': 'https://api.spotify.com/v1/artists/2qk9voo8llSGYcZ6xrBzKx',\n       'id': '2qk9voo8llSGYcZ6xrBzKx',\n       'name': 'Kings of Leon',\n       'type': 'artist',\n       'uri': 'spotify:artist:2qk9voo8llSGYcZ6xrBzKx'}],\n     'available_markets': ['AD',\n      'AE',\n      'AL',\n      'AR',\n      'AT',\n      'AU',\n      'BA',\n      'BE',\n      'BG',\n      'BH',\n      'BO',\n      'BR',\n      'BY',\n      'CA',\n      'CH',\n      'CL',\n      'CO',\n      'CR',\n      'CY',\n      'CZ',\n      'DE',\n      'DK',\n      'DO',\n      'DZ',\n      'EC',\n      'EE',\n      'EG',\n      'ES',\n      'FI',\n      'FR',\n      'GR',\n      'GT',\n      'HK',\n      'HN',\n      'HR',\n      'HU',\n      'ID',\n      'IL',\n      'IN',\n      'IS',\n      'IT',\n      'JO',\n      'JP',\n      'KW',\n      'KZ',\n      'LB',\n      'LI',\n      'LT',\n      'LU',\n      'LV',\n      'MA',\n      'MC',\n      'MD',\n      'ME',\n      'MK',\n      'MT',\n      'MX',\n      'MY',\n      'NI',\n      'NL',\n      'NO',\n      'NZ',\n      'OM',\n      'PA',\n      'PE',\n      'PH',\n      'PL',\n      'PS',\n      'PT',\n      'PY',\n      'QA',\n      'RO',\n      'RS',\n      'RU',\n      'SA',\n      'SE',\n      'SG',\n      'SI',\n      'SK',\n      'SV',\n      'TH',\n      'TN',\n      'TR',\n      'TW',\n      'UA',\n      'US',\n      'UY',\n      'VN',\n      'XK',\n      'ZA'],\n     'external_urls': {'spotify': 'https://open.spotify.com/album/5CZR6ljD0x9fTiS4mh9wMp'},\n     'href': 'https://api.spotify.com/v1/albums/5CZR6ljD0x9fTiS4mh9wMp',\n     'id': '5CZR6ljD0x9fTiS4mh9wMp',\n     'images': [{'height': 640,\n       'url': 'https://i.scdn.co/image/ab67616d0000b2732519d01c0cca06f134eeadd8',\n       'width': 640},\n      {'height': 300,\n       'url': 'https://i.scdn.co/image/ab67616d00001e022519d01c0cca06f134eeadd8',\n       'width': 300},\n      {'height': 64,\n       'url': 'https://i.scdn.co/image/ab67616d000048512519d01c0cca06f134eeadd8',\n       'width': 64}],\n     'name': 'Only By The Night',\n     'release_date': '2008-09-23',\n     'release_date_precision': 'day',\n     'total_tracks': 11,\n     'type': 'album',\n     'uri': 'spotify:album:5CZR6ljD0x9fTiS4mh9wMp'},\n    'artists': [{'external_urls': {'spotify': 'https://open.spotify.com/artist/2qk9voo8llSGYcZ6xrBzKx'},\n      'href': 'https://api.spotify.com/v1/artists/2qk9voo8llSGYcZ6xrBzKx',\n      'id': '2qk9voo8llSGYcZ6xrBzKx',\n      'name': 'Kings of Leon',\n      'type': 'artist',\n      'uri': 'spotify:artist:2qk9voo8llSGYcZ6xrBzKx'}],\n    'available_markets': ['AD',\n     'AE',\n     'AL',\n     'AR',\n     'AT',\n     'AU',\n     'BA',\n     'BE',\n     'BG',\n     'BH',\n     'BO',\n     'BR',\n     'BY',\n     'CA',\n     'CH',\n     'CL',\n     'CO',\n     'CR',\n     'CY',\n     'CZ',\n     'DE',\n     'DK',\n     'DO',\n     'DZ',\n     'EC',\n     'EE',\n     'EG',\n     'ES',\n     'FI',\n     'FR',\n     'GR',\n     'GT',\n     'HK',\n     'HN',\n     'HR',\n     'HU',\n     'ID',\n     'IL',\n     'IN',\n     'IS',\n     'IT',\n     'JO',\n     'JP',\n     'KW',\n     'KZ',\n     'LB',\n     'LI',\n     'LT',\n     'LU',\n     'LV',\n     'MA',\n     'MC',\n     'MD',\n     'ME',\n     'MK',\n     'MT',\n     'MX',\n     'MY',\n     'NI',\n     'NL',\n     'NO',\n     'NZ',\n     'OM',\n     'PA',\n     'PE',\n     'PH',\n     'PL',\n     'PS',\n     'PT',\n     'PY',\n     'QA',\n     'RO',\n     'RS',\n     'RU',\n     'SA',\n     'SE',\n     'SG',\n     'SI',\n     'SK',\n     'SV',\n     'TH',\n     'TN',\n     'TR',\n     'TW',\n     'UA',\n     'US',\n     'UY',\n     'VN',\n     'XK',\n     'ZA'],\n    'disc_number': 1,\n    'duration_ms': 185373,\n    'explicit': False,\n    'external_ids': {'isrc': 'USRC10800308'},\n    'external_urls': {'spotify': 'https://open.spotify.com/track/3IYAT3Rtlyqlo4ndbugxfl'},\n    'href': 'https://api.spotify.com/v1/tracks/3IYAT3Rtlyqlo4ndbugxfl',\n    'id': '3IYAT3Rtlyqlo4ndbugxfl',\n    'is_local': False,\n    'name': '17',\n    'popularity': 53,\n    'preview_url': 'https://p.scdn.co/mp3-preview/ef9855c2c4f09309c042c9d11686ab2504cc638a?cid=e99ac0ad2b5c4e329542c2361e28ae40',\n    'track_number': 7,\n    'type': 'track',\n    'uri': 'spotify:track:3IYAT3Rtlyqlo4ndbugxfl'}],\n  'limit': 20,\n  'next': 'https://api.spotify.com/v1/search?query=The+Night+King&type=track&offset=20&limit=20',\n  'offset': 0,\n  'previous': None,\n  'total': 4806}}"
     },
     "metadata": {},
     "execution_count": 25
    }
   ],
   "source": [
    "# Can make another search request for a different track\n",
    "data: str = urlencode({\n",
    "    \"q\": \"The Night King\",\n",
    "    \"type\": \"track\", \n",
    "})\n",
    "lookup_url: str = f\"{endpoint}?{data}\"\n",
    "r = requests.get(lookup_url, headers=headers)\n",
    "r.json()"
   ]
  },
  {
   "cell_type": "code",
   "execution_count": null,
   "metadata": {},
   "outputs": [],
   "source": []
  }
 ],
 "metadata": {
  "kernelspec": {
   "display_name": "Python 3.8.2 64-bit ('daily-3.8.2': venv)",
   "language": "python",
   "name": "python38264bitdaily382venvbb41b6aba4cd476c8a722f3b0420bc74"
  },
  "language_info": {
   "codemirror_mode": {
    "name": "ipython",
    "version": 3
   },
   "file_extension": ".py",
   "mimetype": "text/x-python",
   "name": "python",
   "nbconvert_exporter": "python",
   "pygments_lexer": "ipython3",
   "version": "3.8.2-final"
  }
 },
 "nbformat": 4,
 "nbformat_minor": 4
}