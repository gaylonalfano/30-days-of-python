{
 "metadata": {
  "language_info": {
   "codemirror_mode": {
    "name": "ipython",
    "version": 3
   },
   "file_extension": ".py",
   "mimetype": "text/x-python",
   "name": "python",
   "nbconvert_exporter": "python",
   "pygments_lexer": "ipython3",
   "version": "3.8.2-final"
  },
  "orig_nbformat": 2,
  "kernelspec": {
   "name": "python38264bitdaily382venvbb41b6aba4cd476c8a722f3b0420bc74",
   "display_name": "Python 3.8.2 64-bit ('daily-3.8.2': venv)"
  }
 },
 "nbformat": 4,
 "nbformat_minor": 2,
 "cells": [
  {
   "cell_type": "markdown",
   "metadata": {},
   "source": [
    "\n",
    "## Questions API Client\n",
    "* What about the `base_endpoint` URL? Could/should this be added as a class variable? Or should it be added within the `__init__` method? When do you choose one or the other? Why not just put all of these inside the `__init__` function? Just seems redundant somehow...\n",
    "* To make our Client more robust, should we add `assert` or `raise Exception` in some places? Is that common for `class` objects?\n",
    "* Do you like to use constants? `API_KEY` vs. `api_key`?\n",
    "* Better understanding `location` and the `extract_latlng()` method. Okay, so when we init a new instance, we're setting `self.location_query = address_or_postal_code`. Even if an address is passed during the initialization, we're going to set the `self.location_query` and `self.lat`, `self.lng` values. **However**, if we *do not* pass an `address_or_postal_code` during initialization, then the `self.lat` and `self.lng` values will be their defaults `None`. Then later on a user may also choose to update the address/location via the `search()` method. We're giving them the option to pass a new `location` argument to `search(self, location)` method. If a new `location` is provided, then we re-run the `extract_latlng()` method but now passing it this updated `location` value. However, before we do any of that, we first (within the `search()` method) set some *local* function vars `lat, lng = self.lat, self.lng` since we want to first get whatever those instance values are currently before we run the `extract_latlng()` method to get updated values. This means that if a `location` has indeed been passed to `extract_latlng()` (any time *after* the instance has been initialized), then we're going to update the `self.location_query`, `self.lat`, and `self.lng` class variable values.\n",
    "**It seems to be a difference of referencing the `class` variable value (`self.lat`) vs. the `local` variable value (`lat`).** Recall that originally we have `params[\"address\"]: self.location_query`, which during initialization could be `None` (if `address_or_postal_code is None`). \n",
    "* What's the difference between `self.lat = lat` vs. `lat = self.lat`?\n",
    "\n",
    "## Google Maps API Client (or, Client API)\n",
    "### Geocoding\n",
    "* First thing we need is the extracted `lat` and `lng` values\n",
    "* Move `data_type='json'` as a class variable so every request we make uses `json`.\n",
    "* Same with the `address` (or location). That's going to come with every request so can just pull it out and make it into a class variable, e.g., `location_query: t.Optional[str] = None`\n",
    "* We can set `lat` and `lng` values back to the class itself using `self.lat = lat` and `self.lng = lng`. Otherwise, they'll remain as `None` as per their defaults. This allows us to use the `self.lat` and `self.lng` values later within other class methods, etc. \n",
    "* In fact, after these changes we could actually initialize this Client (class) this way. Meaning we can define the `__init__` function and have it require an `address_or_postal_code` argument, which can then be used to extract the `lat` and `lng` values by doing `self.extract_latlng()` as part of the instance initialization. We can have `address_or_postal_code` be an *optional* argument by defaulting to `None`. This means that the user can just create a new instance of the Client without having to also specify an `address` from the beginning. However, if the user does provide/pass a `address_or_postal_code`, then we could handle/update the `lat` and `lng` values based on the provided location.\n",
    "* Same goes for `api_key` as we must have one. Therefore let's add it as a class variable and default to `None`. Then let's `raise Exception` if one isn't passed as an argument.\n",
    "### Places Nearby Search\n",
    "* Going to just implement the nearby searches feature instead of just single `findplacefromtext`.\n",
    "* We could consider giving the user the chance to change the `lat` and `lng` values when using the `search()` class method we're building. To do this, we can add a `location=None` parameter to our `search(self, keyword=\"Tex-Mex food\", location=None)` definition. So if a `location` is passed, then we'd have to update the `lat`, `lng` values using our `extract_latlng()` method. However, we want to reset/update the values based on `location`, so it makes sense to add `location=None` to the `extract_latlng(self, location=None)` method as well.\n",
    "    * ??         # NOTE ?? - Why not just set self.location_query = location?\n",
    "### Places Detail\n",
    "* More straight-forward since we don't mess with `location', only `place_id` and `fields`.\n"
   ]
  },
  {
   "cell_type": "code",
   "execution_count": 11,
   "metadata": {},
   "outputs": [],
   "source": [
    "import typing as t\n",
    "from urllib.parse import urlencode, urlparse, parse_qsl\n",
    "\n",
    "import requests\n",
    "\n",
    "from google_geocoding_places_api import settings"
   ]
  },
  {
   "cell_type": "code",
   "execution_count": 12,
   "metadata": {},
   "outputs": [],
   "source": [
    "API_KEY = settings.API_KEY"
   ]
  },
  {
   "cell_type": "code",
   "execution_count": 13,
   "metadata": {},
   "outputs": [],
   "source": [
    "class GoogleMapsAPIClient(object):\n",
    "    lat: t.Optional[float] = None\n",
    "    lng: t.Optional[float] = None\n",
    "    data_type: str = \"json\"  # or lookup_type\n",
    "    location_query: t.Optional[str] = None\n",
    "    api_key: t.Optional[str] = None\n",
    "\n",
    "    def __init__(self, api_key: t.Optional[str] = None, address_or_postal_code: t.Optional[str] = None, *args, **kwargs):\n",
    "        super().__init__(*args, **kwargs)\n",
    "        if api_key is None:\n",
    "            raise Exception(\"Must provide an API key.\")\n",
    "        self.api_key = api_key\n",
    "        self.location_query = address_or_postal_code\n",
    "        if self.location_query is not None:\n",
    "            self.extract_latlng()\n",
    "\n",
    "    # We have our 'url' ready for the request but we want to return the latitude and longitude\n",
    "    # Let's convert this into a function\n",
    "    def extract_latlng(self, location: t.Optional[str] = None) -> t.Tuple:\n",
    "        # set 'loc_query' to original default self.location_query set from instantiation\n",
    "        loc_query: str = self.location_query  \n",
    "        # If 'location' is passed/provided, then update self.location_query\n",
    "        if location is not None:\n",
    "        # NOTE ?? - Why not just set self.location_query = location?\n",
    "            loc_query = location\n",
    "        \n",
    "        # outputFormat\n",
    "        params: t.Dict = {\"address\": loc_query, \"key\": self.api_key}\n",
    "        url_params: str = urlencode(params)\n",
    "        endpoint: str = f\"https://maps.googleapis.com/maps/api/geocode/{self.data_type}\"\n",
    "        url: str = f\"{endpoint}?{url_params}\"\n",
    "\n",
    "        # Now we have our request url let's make the request\n",
    "        r = requests.get(url)\n",
    "        if r.status_code not in range(200, 299):\n",
    "            print(f\"Request failed! {url}\")\n",
    "            return {}\n",
    "        \n",
    "        # Try to set/extract the lat lng data from 'location' key \n",
    "        # r.json()['results'][0]['geometry']['location']\n",
    "        # {'lat': 37.4220578, 'lng': -122.0840897}\n",
    "        latlng: t.Dict[str, float] = {}\n",
    "        try:\n",
    "            latlng = r.json()['results'][0]['geometry']['location']\n",
    "        except:\n",
    "            pass\n",
    "\n",
    "        # Set these lat,lng values back to the class variables\n",
    "        lat: float = latlng.get('lat')\n",
    "        lng: float = latlng.get('lng')\n",
    "        self.lat = lat\n",
    "        self.lng = lng\n",
    "\n",
    "        # Use .get('key') to get result or None. If I use d['key'] could get KetError\n",
    "        # return latlng.get('lat'), latlng.get('lng')  # (None, None)\n",
    "        return lat, lng\n",
    "\n",
    "\n",
    "    # Let's try the Nearby Search request to get multiple results\n",
    "    def search(self, keyword: str = \"Tex-Mex food\", location: t.Optional[str] = None, radius: int = 1000) -> t.Dict:\n",
    "        # https://maps.googleapis.com/maps/api/place/nearbysearch/output?parameters\n",
    "        # Reference the class variables first:\n",
    "        lat: float\n",
    "        lng: float\n",
    "        lat, lng = self.lat, self.lng\n",
    "        # Check if location was passed\n",
    "        if location is not None:\n",
    "            # Updated lat, lng values by extracting\n",
    "            # ?? Don't we have to pass 'location' to this extract_latlng() fn? YES!\n",
    "            lat, lng = self.extract_latlng(location=location)  \n",
    "        base_endpoint: str = f\"https://maps.googleapis.com/maps/api/place/nearbysearch/{self.data_type}\"\n",
    "        params: t.Dict = {\n",
    "            \"key\": self.api_key,\n",
    "            \"location\": f\"{lat},{lng}\", # reference local 'lat' instead of class self.lat\n",
    "            \"radius\": radius,  # meters\n",
    "            \"keyword\": keyword\n",
    "        }\n",
    "        params_encoded: str = urlencode(params)\n",
    "        places_endpoint: str = f\"{base_endpoint}?{params_encoded}\"\n",
    "\n",
    "        r = requests.get(places_endpoint)\n",
    "        if r.status_code not in range(200, 299):\n",
    "            print(f\"Search request failed: {places_endpoint}\")\n",
    "            return {}\n",
    "        return r.json()  # Could refine later\n",
    "\n",
    "\n",
    "    def detail(self, place_id: str = \"ChIJ8ZTVZJmwj4ARQFv0RXspg3A\", fields: t.List[str] = [\"name\", \"rating\", \"formatted_phone_number\", \"formatted_address\"]) -> t.Dict:\n",
    "        # Once we get our place either from Place or Nearby request we can\n",
    "        # use Place Detail along with place_id for a detail_lookup_request\n",
    "        # https://maps.googleapis.com/maps/api/place/details/json?place_id=ChIJN1t_tDeuEmsRUsoyG83frY4&fields=name,rating,formatted_phone_number&key=YOUR_API_KEY\n",
    "        base_details_endpoint: str = f\"https://maps.googleapis.com/maps/api/place/details/{self.data_type}\"\n",
    "        params: t.Dict = {\n",
    "            \"place_id\": f\"{place_id}\",\n",
    "            \"fields\": \",\".join(fields),\n",
    "            \"key\": self.api_key\n",
    "        }\n",
    "        params_encoded: str = urlencode(params)\n",
    "        details_endpoint: str = f\"{base_details_endpoint}?{params_encoded}\"\n",
    "\n",
    "        r = requests.get(details_endpoint)\n",
    "        if r.status_code not in range(200, 299):\n",
    "            print(f\"Detail request failed: {details_endpoint}\")\n",
    "            return {}\n",
    "        return r.json()  # Could refine later\n",
    "    "
   ]
  },
  {
   "cell_type": "code",
   "execution_count": 14,
   "metadata": {
    "tags": []
   },
   "outputs": [],
   "source": [
    "client = GoogleMapsAPIClient(api_key=API_KEY, address_or_postal_code=\"Austin, TX\")\n",
    "\n",
    "# print(client.lat, client.lng)  # 30.267153 -97.7430608"
   ]
  },
  {
   "cell_type": "code",
   "execution_count": 15,
   "metadata": {},
   "outputs": [
    {
     "output_type": "execute_result",
     "data": {
      "text/plain": "{'html_attributions': [],\n 'results': [{'business_status': 'OPERATIONAL',\n   'geometry': {'location': {'lat': 30.6406001, 'lng': -97.6783354},\n    'viewport': {'northeast': {'lat': 30.64204402989272,\n      'lng': -97.67697072010726},\n     'southwest': {'lat': 30.63934437010727, 'lng': -97.67967037989271}}},\n   'icon': 'https://maps.gstatic.com/mapfiles/place_api/icons/restaurant-71.png',\n   'name': 'El Charrito',\n   'opening_hours': {'open_now': True},\n   'photos': [{'height': 3024,\n     'html_attributions': ['<a href=\"https://maps.google.com/maps/contrib/117799068673281855180\">A Google User</a>'],\n     'photo_reference': 'CmRaAAAAgrAN2z8JrKVbJG6B2xWhI4f65j6nJydz6nu0Y0lSQdorpqeulkXyAVxBv5gxtZBROOTbgtfWlZnfqSLTsAfGWQqQA-5AL0J47zo9OyOCtr_PpseDiX-sa0j-3Vly4TUIEhC5RMlH48oOjhxELeN_qFHMGhSUdBnPZ_DKuwbUYeI9SwupIrQrKw',\n     'width': 4032}],\n   'place_id': 'ChIJD2lEIWrWRIYRIHwDUMk--8U',\n   'plus_code': {'compound_code': 'J8RC+6M Georgetown, Texas',\n    'global_code': '8624J8RC+6M'},\n   'price_level': 1,\n   'rating': 4.3,\n   'reference': 'ChIJD2lEIWrWRIYRIHwDUMk--8U',\n   'scope': 'GOOGLE',\n   'types': ['restaurant', 'food', 'point_of_interest', 'establishment'],\n   'user_ratings_total': 602,\n   'vicinity': '302 S Austin Ave, Georgetown'},\n  {'business_status': 'OPERATIONAL',\n   'geometry': {'location': {'lat': 30.6329519, 'lng': -97.6897334},\n    'viewport': {'northeast': {'lat': 30.63436462989272,\n      'lng': -97.68838517010728},\n     'southwest': {'lat': 30.63166497010728, 'lng': -97.69108482989272}}},\n   'icon': 'https://maps.gstatic.com/mapfiles/place_api/icons/restaurant-71.png',\n   'id': 'be26f33305ec401fbaf102e5d91457d4b8f5ba7e',\n   'name': 'Big Madre- Tacos y Tortas',\n   'opening_hours': {'open_now': True},\n   'place_id': 'ChIJVe4HJvXXRIYRmnkdRL1m5aA',\n   'plus_code': {'compound_code': 'J8M6+54 Georgetown, Texas',\n    'global_code': '8624J8M6+54'},\n   'rating': 0,\n   'reference': 'ChIJVe4HJvXXRIYRmnkdRL1m5aA',\n   'scope': 'GOOGLE',\n   'types': ['restaurant', 'food', 'point_of_interest', 'establishment'],\n   'user_ratings_total': 0,\n   'vicinity': '13745 N Interstate 35 Frontage Rd, Jarrell'},\n  {'business_status': 'OPERATIONAL',\n   'geometry': {'location': {'lat': 30.6354473, 'lng': -97.68930320000001},\n    'viewport': {'northeast': {'lat': 30.63680352989272,\n      'lng': -97.68798077010727},\n     'southwest': {'lat': 30.63410387010727, 'lng': -97.69068042989272}}},\n   'icon': 'https://maps.gstatic.com/mapfiles/place_api/icons/restaurant-71.png',\n   'name': 'Taco Bell',\n   'opening_hours': {'open_now': True},\n   'photos': [{'height': 1200,\n     'html_attributions': ['<a href=\"https://maps.google.com/maps/contrib/105383336017044525660\">C Coleman</a>'],\n     'photo_reference': 'CmRaAAAASueW4VRvgG182dZDfG9LD7DPaGKFYlhVpZPjV96dhW6dD0_RwnJxiCD_qIhnV3tdcTTPGeCAU0X5aWD7MW53ej7GjjkT2j0exR3A5Osz3ZfUm4EiSYOavkMJScWaJ553EhCVnM6xVwh8nodaAkg5Up53GhTFaQ3rZNmHz_aDw_w8gECDKa0Elw',\n     'width': 1600}],\n   'place_id': 'ChIJRXV3QnDWRIYRID5mIaBFXuI',\n   'plus_code': {'compound_code': 'J8P6+57 Georgetown, Texas',\n    'global_code': '8624J8P6+57'},\n   'price_level': 1,\n   'rating': 3.5,\n   'reference': 'ChIJRXV3QnDWRIYRID5mIaBFXuI',\n   'scope': 'GOOGLE',\n   'types': ['meal_takeaway',\n    'restaurant',\n    'food',\n    'point_of_interest',\n    'establishment'],\n   'user_ratings_total': 483,\n   'vicinity': '1001 S I-35, Georgetown'},\n  {'business_status': 'OPERATIONAL',\n   'geometry': {'location': {'lat': 30.6425749, 'lng': -97.6852928},\n    'viewport': {'northeast': {'lat': 30.64398722989272,\n      'lng': -97.68386877010728},\n     'southwest': {'lat': 30.64128757010728, 'lng': -97.68656842989273}}},\n   'icon': 'https://maps.gstatic.com/mapfiles/place_api/icons/restaurant-71.png',\n   'id': 'dee84ca64a44e9bf3a9d16df46e63b85a38d8db5',\n   'name': \"Chili's Grill & Bar\",\n   'opening_hours': {'open_now': False},\n   'photos': [{'height': 2988,\n     'html_attributions': ['<a href=\"https://maps.google.com/maps/contrib/110304085601270232127\">Canine Mastery</a>'],\n     'photo_reference': 'CmRZAAAAycojOoqGQMfolWfgYaVc1RZBgXrB2A4fibzwOHupJ-aJeb5cdpZJ3cyneAaHwmo7OZlDty-BZ164z4xw31RRtnJHIYpQnIOFVdcD6jhwskW6KzQ9sfuxLqTL9p9j1LgIEhBmtBe1GO-0vY4RNtdpyWTZGhRprjpjBwSIcDpaFlKWFhp4selZiQ',\n     'width': 5312}],\n   'place_id': 'ChIJS2s9LBbWRIYRTsyvVCTVxyo',\n   'plus_code': {'compound_code': 'J8V7+2V Georgetown, Texas',\n    'global_code': '8624J8V7+2V'},\n   'price_level': 2,\n   'rating': 3.9,\n   'reference': 'ChIJS2s9LBbWRIYRTsyvVCTVxyo',\n   'scope': 'GOOGLE',\n   'types': ['bar',\n    'restaurant',\n    'food',\n    'point_of_interest',\n    'establishment'],\n   'user_ratings_total': 900,\n   'vicinity': '401 S IH 35 Frontage Rd, Georgetown'},\n  {'business_status': 'OPERATIONAL',\n   'geometry': {'location': {'lat': 30.6334883, 'lng': -97.6773213},\n    'viewport': {'northeast': {'lat': 30.63477337989272,\n      'lng': -97.67579652010727},\n     'southwest': {'lat': 30.63207372010728, 'lng': -97.67849617989272}}},\n   'icon': 'https://maps.gstatic.com/mapfiles/place_api/icons/restaurant-71.png',\n   'id': 'aead14084dfe710f6c1b79946471a6e2a2e5102c',\n   'name': 'Dos Salsas',\n   'opening_hours': {'open_now': False},\n   'photos': [{'height': 3120,\n     'html_attributions': ['<a href=\"https://maps.google.com/maps/contrib/111612328208348810866\">David Mattern</a>'],\n     'photo_reference': 'CmRaAAAAr9600kSQi2fQbyKvDlF9p-wpzBB-vx-ZkJVm1Ktb2Kxlz0XcaODkOpDJVIixjZTuIDqXeIe_lhaPZuJy3lbX3scU3nuambesYqkgCuq6dVMWKayIlGmHF8r6nt52sSadEhDyv7Ba9f2j8RvR2JoCBCvVGhQcEM1cAwUgfCko6jemgO3PGC55UQ',\n     'width': 4160}],\n   'place_id': 'ChIJl4bD7WfWRIYRj928bZAMexI',\n   'plus_code': {'compound_code': 'J8MF+93 Georgetown, Texas',\n    'global_code': '8624J8MF+93'},\n   'price_level': 2,\n   'rating': 4.3,\n   'reference': 'ChIJl4bD7WfWRIYRj928bZAMexI',\n   'scope': 'GOOGLE',\n   'types': ['restaurant', 'food', 'point_of_interest', 'establishment'],\n   'user_ratings_total': 2003,\n   'vicinity': '1104 S Main St, Georgetown'},\n  {'business_status': 'OPERATIONAL',\n   'geometry': {'location': {'lat': 30.63422689999999, 'lng': -97.6773704},\n    'viewport': {'northeast': {'lat': 30.63549627989272,\n      'lng': -97.67602277010728},\n     'southwest': {'lat': 30.63279662010727, 'lng': -97.67872242989273}}},\n   'icon': 'https://maps.gstatic.com/mapfiles/place_api/icons/restaurant-71.png',\n   'id': '32c586f1531e43f36d6e69fb6c531ea60264fedf',\n   'name': 'Rio Bravo Mexican Cafe',\n   'opening_hours': {'open_now': True},\n   'photos': [{'height': 3456,\n     'html_attributions': ['<a href=\"https://maps.google.com/maps/contrib/103618546645780446495\">Raul Espinoza</a>'],\n     'photo_reference': 'CmRaAAAAmPL5Zapcio7kTUJbpLfFyRHHU1OOFPc31doozimMjsRcPRskh-BWfQHgBxnXevxIiKhwgPvMbzw1SghtuSPNoPMRJaLW69ZCHVW_YoDmGq3_93yuEbf5moEJEYfwVMLuEhCBfoXLwLcvqr-Omm2aG3RHGhSD3frrujc1V9sslprYUo3tX8wOpQ',\n     'width': 5184}],\n   'place_id': 'ChIJXY6M-mfWRIYRpO2qmvXDnKw',\n   'plus_code': {'compound_code': 'J8MF+M3 Georgetown, Texas',\n    'global_code': '8624J8MF+M3'},\n   'price_level': 1,\n   'rating': 4.3,\n   'reference': 'ChIJXY6M-mfWRIYRpO2qmvXDnKw',\n   'scope': 'GOOGLE',\n   'types': ['restaurant', 'food', 'point_of_interest', 'establishment'],\n   'user_ratings_total': 170,\n   'vicinity': '107 W 11th St, Georgetown'},\n  {'business_status': 'OPERATIONAL',\n   'geometry': {'location': {'lat': 30.63290169999999, 'lng': -97.6829222},\n    'viewport': {'northeast': {'lat': 30.63429097989271,\n      'lng': -97.68170722010727},\n     'southwest': {'lat': 30.63159132010727, 'lng': -97.68440687989272}}},\n   'icon': 'https://maps.gstatic.com/mapfiles/place_api/icons/restaurant-71.png',\n   'name': 'Jack in the Box',\n   'opening_hours': {'open_now': True},\n   'photos': [{'height': 4032,\n     'html_attributions': ['<a href=\"https://maps.google.com/maps/contrib/102698860728268778831\">Adrian Gutierrez</a>'],\n     'photo_reference': 'CmRaAAAAfRQwVy0Ptl_yFY84POPRdkyZYLlslHQkAlvIh8p70E10ZaeqRwch-0_VEue3B-Xc2aaGzsygmQg2_2eQzCtvsWuuUi2COfzDUs_TVbUTMHdAc-9VLCmFXf4l_LF5qGv-EhDZ72UvTPoFWGb8oZ7S3IxrGhRkMWh6mxheziiKFduGmF86ft0PYw',\n     'width': 3024}],\n   'place_id': 'ChIJa8fYw2XWRIYRQgRXOlZoi-U',\n   'plus_code': {'compound_code': 'J8M8+5R Georgetown, Texas',\n    'global_code': '8624J8M8+5R'},\n   'price_level': 1,\n   'rating': 3.5,\n   'reference': 'ChIJa8fYw2XWRIYRQgRXOlZoi-U',\n   'scope': 'GOOGLE',\n   'types': ['restaurant', 'food', 'point_of_interest', 'establishment'],\n   'user_ratings_total': 436,\n   'vicinity': '710 W University Ave, Georgetown'},\n  {'business_status': 'OPERATIONAL',\n   'geometry': {'location': {'lat': 30.6422328, 'lng': -97.6786575},\n    'viewport': {'northeast': {'lat': 30.64347782989272,\n      'lng': -97.67729157010729},\n     'southwest': {'lat': 30.64077817010727, 'lng': -97.67999122989272}}},\n   'icon': 'https://maps.gstatic.com/mapfiles/place_api/icons/restaurant-71.png',\n   'id': '164f4934d8061a419b3427a225500e9d4adca489',\n   'name': 'El Monumento',\n   'opening_hours': {'open_now': False},\n   'photos': [{'height': 4032,\n     'html_attributions': ['<a href=\"https://maps.google.com/maps/contrib/118377978504759284979\">S Miller</a>'],\n     'photo_reference': 'CmRaAAAACi0_5phzW6WgLGtqzt6Sd8Px4aDm9VKlPxDARoxT4l1sx68ZML9GU189D7OVqtQgfnlCKChTYyvAk4GHiVIne0p1ZLxF98pgNRQyJIS3FjV-WeEbieOEPYa_zEaeRkdXEhCoaLzlsHfWwp0ZRYb2PxmhGhR5wWAxWSukbThqow1_OyufFx9_qQ',\n     'width': 3024}],\n   'place_id': 'ChIJOQBeOGrWRIYR5ArXV0tUkxM',\n   'plus_code': {'compound_code': 'J8RC+VG Georgetown, Texas',\n    'global_code': '8624J8RC+VG'},\n   'price_level': 2,\n   'rating': 4.2,\n   'reference': 'ChIJOQBeOGrWRIYR5ArXV0tUkxM',\n   'scope': 'GOOGLE',\n   'types': ['bar',\n    'restaurant',\n    'food',\n    'point_of_interest',\n    'establishment'],\n   'user_ratings_total': 1381,\n   'vicinity': '205 W 2nd St, Georgetown'}],\n 'status': 'OK'}"
     },
     "metadata": {},
     "execution_count": 15
    }
   ],
   "source": [
    "# Let's test out some search() and detail()\n",
    "client.search(\"Tacos\", location=\"Georgetown, TX\")  # works!"
   ]
  },
  {
   "cell_type": "code",
   "execution_count": 16,
   "metadata": {},
   "outputs": [
    {
     "output_type": "execute_result",
     "data": {
      "text/plain": "{'html_attributions': [],\n 'result': {'formatted_address': '1104 S Main St, Georgetown, TX 78626, USA',\n  'formatted_phone_number': '(512) 930-2343',\n  'name': 'Dos Salsas',\n  'rating': 4.3},\n 'status': 'OK'}"
     },
     "metadata": {},
     "execution_count": 16
    }
   ],
   "source": [
    "# Dos Salsas 'ChIJl4bD7WfWRIYRj928bZAMexI'\n",
    "client.detail(place_id='ChIJl4bD7WfWRIYRj928bZAMexI')  # works!"
   ]
  }
 ]
}