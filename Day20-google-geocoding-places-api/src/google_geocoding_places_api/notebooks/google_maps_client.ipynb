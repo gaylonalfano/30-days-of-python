{
 "metadata": {
  "language_info": {
   "codemirror_mode": {
    "name": "ipython",
    "version": 3
   },
   "file_extension": ".py",
   "mimetype": "text/x-python",
   "name": "python",
   "nbconvert_exporter": "python",
   "pygments_lexer": "ipython3",
   "version": "3.8.2-final"
  },
  "orig_nbformat": 2,
  "kernelspec": {
   "name": "python38264bitdaily382venvbb41b6aba4cd476c8a722f3b0420bc74",
   "display_name": "Python 3.8.2 64-bit ('daily-3.8.2': venv)"
  }
 },
 "nbformat": 4,
 "nbformat_minor": 2,
 "cells": [
  {
   "cell_type": "code",
   "execution_count": null,
   "metadata": {},
   "outputs": [],
   "source": [
    "import typing as t\n",
    "from urllib.parse import urlencode, urlparse, parse_qsl\n",
    "\n",
    "import requests\n",
    "\n",
    "from google_geocoding_places_api import settings"
   ]
  },
  {
   "cell_type": "code",
   "execution_count": null,
   "metadata": {},
   "outputs": [],
   "source": [
    "API_KEY = settings.API_KEY"
   ]
  },
  {
   "cell_type": "code",
   "execution_count": null,
   "metadata": {},
   "outputs": [],
   "source": [
    "class GoogleMapsAPIClient(object):\n",
    "    lat: t.Optional[float] = None\n",
    "    lng: t.Optional[float] = None\n",
    "    data_type: str = \"json\"  # or lookup_type\n",
    "    location_query: t.Optional[str] = None\n",
    "    api_key: t.Optional[str] = None\n",
    "\n",
    "    def __init__(self, api_key: t.Optional[str] = None, address_or_postal_code: t.Optional[str] = None, *args, **kwargs):\n",
    "        super().__init__(*args, **kwargs)\n",
    "        if api_key is None:\n",
    "            raise Exception(\"Must provide an API key.\")\n",
    "        self.api_key = api_key\n",
    "        self.location_query = address_or_postal_code\n",
    "        if self.location_query is not None:\n",
    "            self.extract_latlng()\n",
    "\n",
    "    # We have our 'url' ready for the request but we want to return the latitude and longitude\n",
    "    # Let's convert this into a function\n",
    "    def extract_latlng(self, location: t.Optional[str] = None) -> t.Tuple:\n",
    "        # set 'loc_query' to original default self.location_query set from instantiation\n",
    "        loc_query: str = self.location_query  \n",
    "        # If 'location' is passed/provided, then update self.location_query\n",
    "        if location is not None:\n",
    "        # NOTE ?? - Why not just set self.location_query = location?\n",
    "            loc_query = location\n",
    "        \n",
    "        # outputFormat\n",
    "        params: t.Dict = {\"address\": loc_query, \"key\": self.api_key}\n",
    "        url_params: str = urlencode(params)\n",
    "        endpoint: str = f\"https://maps.googleapis.com/maps/api/geocode/{self.data_type}\"\n",
    "        url: str = f\"{endpoint}?{url_params}\"\n",
    "\n",
    "        # Now we have our request url let's make the request\n",
    "        r = requests.get(url)\n",
    "        if r.status_code not in range(200, 299):\n",
    "            print(f\"Request failed! {url}\")\n",
    "            return {}\n",
    "        \n",
    "        # Try to set/extract the lat lng data from 'location' key \n",
    "        # r.json()['results'][0]['geometry']['location']\n",
    "        # {'lat': 37.4220578, 'lng': -122.0840897}\n",
    "        latlng: t.Dict[str, float] = {}\n",
    "        try:\n",
    "            latlng = r.json()['results'][0]['geometry']['location']\n",
    "        except:\n",
    "            pass\n",
    "\n",
    "        # Set these lat,lng values back to the class variables\n",
    "        lat: float = latlng.get('lat')\n",
    "        lng: float = latlng.get('lng')\n",
    "        self.lat = lat\n",
    "        self.lng = lng\n",
    "\n",
    "        # Use .get('key') to get result or None. If I use d['key'] could get KetError\n",
    "        # return latlng.get('lat'), latlng.get('lng')  # (None, None)\n",
    "        return lat, lng\n",
    "\n",
    "\n",
    "    # Let's try the Nearby Search request to get multiple results\n",
    "    def search(self, keyword: str = \"Tex-Mex food\", location: t.Optional[str] = None, radius: int = 1000) -> t.Dict:\n",
    "        # https://maps.googleapis.com/maps/api/place/nearbysearch/output?parameters\n",
    "        # Reference the class variables first:\n",
    "        lat: float\n",
    "        lng: float\n",
    "        lat, lng = self.lat, self.lng\n",
    "        # Check if location was passed\n",
    "        if location is not None:\n",
    "            # Updated lat, lng values by extracting\n",
    "            # ?? Don't we have to pass 'location' to this extract_latlng() fn? YES!\n",
    "            lat, lng = self.extract_latlng(location=location)  \n",
    "        base_endpoint: str = f\"https://maps.googleapis.com/maps/api/place/nearbysearch/{self.data_type}\"\n",
    "        params: t.Dict = {\n",
    "            \"key\": self.api_key,\n",
    "            \"location\": f\"{lat},{lng}\", # reference local 'lat' instead of class self.lat\n",
    "            \"radius\": radius,  # meters\n",
    "            \"keyword\": keyword\n",
    "        }\n",
    "        params_encoded: str = urlencode(params)\n",
    "        places_endpoint: str = f\"{base_endpoint}?{params_encoded}\"\n",
    "\n",
    "        r = requests.get(places_endpoint)\n",
    "        if r.status_code not in range(200, 299):\n",
    "            print(f\"Search request failed: {places_endpoint}\")\n",
    "            return {}\n",
    "        return r.json()  # Could refine later\n",
    "\n",
    "\n",
    "    def detail(self, place_id: str = \"ChIJ8ZTVZJmwj4ARQFv0RXspg3A\", fields: t.List[str] = [\"name\", \"rating\", \"formatted_phone_number\", \"formatted_address\"]) -> t.Dict:\n",
    "        # Once we get our place either from Place or Nearby request we can\n",
    "        # use Place Detail along with place_id for a detail_lookup_request\n",
    "        # https://maps.googleapis.com/maps/api/place/details/json?place_id=ChIJN1t_tDeuEmsRUsoyG83frY4&fields=name,rating,formatted_phone_number&key=YOUR_API_KEY\n",
    "        base_details_endpoint: str = f\"https://maps.googleapis.com/maps/api/place/details/{self.data_type}\"\n",
    "        params: t.Dict = {\n",
    "            \"place_id\": f\"{place_id}\",\n",
    "            \"fields\": \",\".join(fields),\n",
    "            \"key\": self.api_key\n",
    "        }\n",
    "        params_encoded: str = urlencode(params)\n",
    "        details_endpoint: str = f\"{base_details_endpoint}?{params_encoded}\"\n",
    "\n",
    "        r = requests.get(details_endpoint)\n",
    "        if r.status_code not in range(200, 299):\n",
    "            print(f\"Detail request failed: {details_endpoint}\")\n",
    "            return {}\n",
    "        return r.json()  # Could refine later\n",
    "    "
   ]
  },
  {
   "cell_type": "code",
   "execution_count": null,
   "metadata": {
    "tags": []
   },
   "outputs": [],
   "source": [
    "client = GoogleMapsAPIClient(api_key=API_KEY, address_or_postal_code=\"Austin, TX\")\n",
    "\n",
    "# print(client.lat, client.lng)  # 30.267153 -97.7430608"
   ]
  },
  {
   "cell_type": "code",
   "execution_count": null,
   "metadata": {},
   "outputs": [],
   "source": [
    "# Let's test out some search() and detail()\n",
    "client.search(\"Tacos\", location=\"Georgetown, TX\")  # works!"
   ]
  },
  {
   "cell_type": "code",
   "execution_count": null,
   "metadata": {},
   "outputs": [],
   "source": [
    "# Dos Salsas 'ChIJl4bD7WfWRIYRj928bZAMexI'\n",
    "client.detail(place_id='ChIJl4bD7WfWRIYRj928bZAMexI')  # works!"
   ]
  }
 ]
}