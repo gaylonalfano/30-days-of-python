{
 "metadata": {
  "language_info": {
   "codemirror_mode": {
    "name": "ipython",
    "version": 3
   },
   "file_extension": ".py",
   "mimetype": "text/x-python",
   "name": "python",
   "nbconvert_exporter": "python",
   "pygments_lexer": "ipython3",
   "version": "3.8.2-final"
  },
  "orig_nbformat": 2,
  "kernelspec": {
   "name": "python38264bitdaily382venvbb41b6aba4cd476c8a722f3b0420bc74",
   "display_name": "Python 3.8.2 64-bit ('daily-3.8.2': venv)"
  }
 },
 "nbformat": 4,
 "nbformat_minor": 2,
 "cells": [
  {
   "cell_type": "markdown",
   "metadata": {},
   "source": [
    "# Notes\n",
    "## Questions\n",
    "### General\n",
    "* How to secure your API_KEY when you're doing all this URL parsing with your `key` embedded? Suggestions?\n",
    "* Do we need to worry about overwriting variables that use same names? E.g., `params`, `base_endpoint`, etc. that we used again and again for the different Places endpoints? Found myself wanting to have unique names for each but just curious.\n",
    "* What are your thoughts about building an REST vs. GraphQL API? Seems like GQL could maybe save some money in the long term ...actually, take that back because the pricing is based on the actual `data fields` you request. Perhaps GQL could allow you to be more specific and therefore save you some money instead of getting *all* fields returned.\n",
    "### Building the API Client Class\n",
    "* What about the `base_endpoint` URL? Could/should this be added as a class variable? Or should it be added within the `__init__` method? When do you choose one or the other? Why not just put all of these inside the `__init__` function? Just seems redundant somehow...\n",
    "* To make our Client more robust, should we add `assert` or `raise Exception` in some places? Is that common for `class` objects?\n",
    "* Do you like to use constants? `API_KEY` vs. `api_key`?\n",
    "* Better understanding `location` and the `extract_latlng()` method. Okay, so when we init a new instance, we're setting `self.location_query = address_or_postal_code`. Even if an address is passed during the initialization, we're going to set the `self.location_query` and `self.lat`, `self.lng` values. **However**, if we *do not* pass an `address_or_postal_code` during initialization, then the `self.lat` and `self.lng` values will be their defaults `None`. Then later on a user may also choose to update the address/location via the `search()` method. We're giving them the option to pass a new `location` argument to `search(self, location)` method. If a new `location` is provided, then we re-run the `extract_latlng()` method but now passing it this updated `location` value. However, before we do any of that, we first (within the `search()` method) set some *local* function vars `lat, lng = self.lat, self.lng` since we want to first get whatever those instance values are currently before we run the `extract_latlng()` method to get updated values. This means that if a `location` has indeed been passed to `extract_latlng()` (any time *after* the instance has been initialized), then we're going to update the `self.location_query`, `self.lat`, and `self.lng` class variable values.\n",
    "**It seems to be a difference of referencing the `class` variable value (`self.lat`) vs. the `local` variable value (`lat`).** Recall that originally we have `params[\"address\"]: self.location_query`, which during initialization could be `None` (if `address_or_postal_code is None`). \n",
    "* What's the difference between `self.lat = lat` vs. `lat = self.lat`? \n",
    "## Setup - Geocoding & Places API w/ Google Maps\n",
    "* There's actually a [Python Client for Google Maps Services](https://github.com/googlemaps/google-maps-services-python) already available but we're going to build our own custom one for more practice.\n",
    "* Lots of APIs/SDKs available in the API Library. Geolocation is for devices. Embedded Maps JS for displaying the map in a website, etc. **You find your APIs you want to enable and then click `enable`**\n",
    "* `Geocoding API` to convert between addresses and geographic coordinates. `Places API` \n",
    "* `APIs & Services` > `Credentials` > `API Keys` to create our API Keys (`OAuth2` requires me to have a web application/callback place). We're going to use our `API key` to make requests and we'll handle the security soon.\n",
    "* **Restrict** the API key by HTTP referrers (my website), a specific IP address (i.e., my home), Android/iOS apps, etc. You can also restrict which APIs this API key has access to (i.e., Places and Geocoding).\n",
    "## Exploring the APIs\n",
    "### Geocoding API\n",
    "* In the tutorial there's a `Client` header. I need to wrap my head around this term within this context. We built an API Client to use Spotify's API. I believe we're doing the same but for Google.\n",
    "* Like most APIs you have an `endpoint` URL, we pass in `parameters` and `api_key`, and execute the `request`.\n",
    "* [Docs for Geocoding API](https://developers.google.com/maps/documentation/geocoding/overview) with a sample `request` template: `https://maps.googleapis.com/maps/api/geocode/json?address=1600+Amphitheatre+Parkway,\n",
    "+Mountain+View,+CA&key=YOUR_API_KEY` --- `&` represents a new parameter in URLs so we know it's a JSON/`dict` like structure.\n",
    "* If I use `d['key']` I'll get a `KeyError`. If I use `d.get('key')` I'll get `None` returned.\n",
    "* To *reverse engineer* an long url string with the query inside, we're going to use `urllib.parse` library and its `urlparse` and `parse_qsl` methods. You can do `urlparse(url_to_parse)` to get a `ParseResult` object that has a bunch of components (scheme, netloc, path, params, query, etc.). The goal is to reverse engineer a long url string into a functional `endpoint` we could use again: `endpoint: str = f\"{base_endpoint}?{urlencode(query_dict)}\"`\n",
    "* There's a lot more that can be done. For example, say you have a user input form where they enter in their address. You could extract their input, send a request to this Geocoding API, get the `formatted_address` from the results, and display this back to the user to have them confirm the correct spelling/address.\n",
    "### Places API\n",
    "* We're using the [Place Search](https://developers.google.com/places/web-service/search) function but there is also Place Details, Types, Data Fields, etc.\n",
    "* An example Place request: `https://maps.googleapis.com/maps/api/place/findplacefromtext/output?parameters` **Note: This base Place request endpoint only returns *one* result! We have to use the nearby search to get more results.**\n",
    "Likes to hardcode 'output' to json instead in the base endpoint.\n",
    "key, input and inputtype are required parameters\n",
    "Inside the params we send in the endpoint url, we can add some optional parameters such as fields and locationbias. The fields allows us to specify the types of place data to return (seems pretty flexible like GraphQL in a way). Within locationbias we can get results in a specified area, which can leverage the longitude and latitude latlng data we got earlier from Geocoding API.\n",
    "locationbias has has additional options where the final str could look like: ipbias, point:lat,lng, circle:radius@lat,lng, rectangle:south,west|north,east. (%3A is byte string for : I believe).\n",
    "fields can be something like fields=address_component,name,geometry,rating,opening_hours,. $$$ Be careful! Certain fields cost more to extract!\n",
    "To get more than one result, we must use the Nearby Search requests. NOTE that this request will return all data fields available so you will be billed accordingly! This is where GraphQL could be helpful probably. The Nearby Search has a slightly different endoint to construct with key, location and radius as required parameters: https://maps.googleapis.com/maps/api/place/nearbysearch/output?parameters\n",
    "Once we find a place based on our type of search (request), we'll get a Place Details request that has more information that we can use: https://maps.googleapis.com/maps/api/place/details/json?place_id=ChIJN1t_tDeuEmsRUsoyG83frY4&fields=name,rating,formatted_phone_number&key=YOUR_API_KEY\n",
    "## Building the Google Maps API Client (or, Client API) Class\n",
    "### Geocoding (`extract_latlng()`)\n",
    "* First thing we need is the extracted `lat` and `lng` values\n",
    "* Move `data_type='json'` as a class variable so every request we make uses `json`.\n",
    "* Same with the `address` (or location). That's going to come with every request so can just pull it out and make it into a class variable, e.g., `location_query: t.Optional[str] = None`\n",
    "* We can set `lat` and `lng` values back to the class itself using `self.lat = lat` and `self.lng = lng`. Otherwise, they'll remain as `None` as per their defaults. This allows us to use the `self.lat` and `self.lng` values later within other class methods, etc. \n",
    "* In fact, after these changes we could actually initialize this Client (class) this way. Meaning we can define the `__init__` function and have it require an `address_or_postal_code` argument, which can then be used to extract the `lat` and `lng` values by doing `self.extract_latlng()` as part of the instance initialization. We can have `address_or_postal_code` be an *optional* argument by defaulting to `None`. This means that the user can just create a new instance of the Client without having to also specify an `address` from the beginning. However, if the user does provide/pass a `address_or_postal_code`, then we could handle/update the `lat` and `lng` values based on the provided location.\n",
    "* Same goes for `api_key` as we must have one. Therefore let's add it as a class variable and default to `None`. Then let's `raise Exception` if one isn't passed as an argument.\n",
    "### Places Nearby Search (`search()`)\n",
    "* Going to just implement the nearby searches feature instead of just single `findplacefromtext`.\n",
    "* We could consider giving the user the chance to change the `lat` and `lng` values when using the `search()` class method we're building. To do this, we can add a `location=None` parameter to our `search(self, keyword=\"Tex-Mex food\", location=None)` definition. So if a `location` is passed, then we'd have to update the `lat`, `lng` values using our `extract_latlng()` method. However, we want to reset/update the values based on `location`, so it makes sense to add `location=None` to the `extract_latlng(self, location=None)` method as well.\n",
    "    * ??         # NOTE ?? - Why not just set self.location_query = location?\n",
    "### Places Detail (`detail()`)\n",
    "* More straight-forward since we don't mess with `location', only `place_id` and `fields`.\n",
    "## Challenge\n",
    "* Improve the way we construct our `endpoint` URLs.\n",
    "* Refactor the way we make our `request` as we repeat a lot of code. A good Client would do it once and change it for you depending on the type of request or endpoint you're trying to reach.\n",
    "* Implement ways to enrich a `Pandas` dataset by pulling in some of this Google Maps data."
   ]
  },
  {
   "cell_type": "code",
   "execution_count": 62,
   "metadata": {},
   "outputs": [],
   "source": [
    "import typing as t\n",
    "from urllib.parse import urlencode, urlparse, parse_qsl\n",
    "\n",
    "import requests\n",
    "\n",
    "from google_geocoding_places_api import settings"
   ]
  },
  {
   "cell_type": "code",
   "execution_count": 63,
   "metadata": {},
   "outputs": [],
   "source": [
    "API_KEY = settings.API_KEY"
   ]
  },
  {
   "cell_type": "markdown",
   "metadata": {},
   "source": [
    "## Geocoding API"
   ]
  },
  {
   "cell_type": "code",
   "execution_count": 106,
   "metadata": {
    "tags": []
   },
   "outputs": [],
   "source": [
    "# Setup a request: https://maps.googleapis.com/maps/api/geocode/outputFormat?parameters\n",
    "data_type: str = \"json\"  # outputFormat\n",
    "params: t.Dict = {\"address\": \"1600 Amphitheatre Parkway, Mountain View, CA\", \"key\": API_KEY}\n",
    "url_params: str = urlencode(params)\n",
    "endpoint: str = f\"https://maps.googleapis.com/maps/api/geocode/{data_type}\"\n",
    "url: str = f\"{endpoint}?{url_params}\""
   ]
  },
  {
   "cell_type": "code",
   "execution_count": 65,
   "metadata": {},
   "outputs": [],
   "source": [
    "# We have our 'url' ready for the request but we want to return the latitude and longitude\n",
    "# Let's convert this into a function\n",
    "def extract_latlng(address: str, data_type: str = \"json\") -> t.Tuple:\n",
    "      # outputFormat\n",
    "    params: t.Dict = {\"address\": address, \"key\": API_KEY}\n",
    "    url_params: str = urlencode(params)\n",
    "    endpoint: str = f\"https://maps.googleapis.com/maps/api/geocode/{data_type}\"\n",
    "    url: str = f\"{endpoint}?{url_params}\"\n",
    "\n",
    "    # Now we have our request url let's make the request\n",
    "    r = requests.get(url)\n",
    "    if r.status_code not in range(200, 299):\n",
    "        print(f\"Request failed! {url}\")\n",
    "        return {}\n",
    "    \n",
    "    # Try to set/extract the lat lng data from 'location' key \n",
    "    # r.json()['results'][0]['geometry']['location']\n",
    "    # {'lat': 37.4220578, 'lng': -122.0840897}\n",
    "    latlng: t.Dict[str, float] = {}\n",
    "    try:\n",
    "        latlng = r.json()['results'][0]['geometry']['location']\n",
    "        # latlng['lat'] = r.json()['results'][0]['geometry']['location']['jjkk']\n",
    "        # latlng['lng'] = r.json()['results'][0]['geometry']['location']['lng']\n",
    "    except:\n",
    "        pass\n",
    "\n",
    "    # Use .get('key') to get result or None. If I use d['key'] could get KetError\n",
    "    return latlng.get('lat'), latlng.get('lng')  # (None, None)\n",
    "    "
   ]
  },
  {
   "cell_type": "code",
   "execution_count": 58,
   "metadata": {},
   "outputs": [
    {
     "output_type": "execute_result",
     "data": {
      "text/plain": "(37.4220578, -122.0840897)"
     },
     "metadata": {},
     "execution_count": 58
    }
   ],
   "source": [
    "extract_latlng(\"1600 Amphitheatre Parkway, Mountain View, CA\")"
   ]
  },
  {
   "cell_type": "code",
   "execution_count": 86,
   "metadata": {},
   "outputs": [],
   "source": [
    "# Reverse engineer the url string with urlparse and parse_sql\n",
    "# from urllib.parse import urlparse, parse_sql\n",
    "url_to_parse: str = f\"https://maps.googleapis.com/maps/api/geocode/json?address=1600+Amphitheatre+Parkway%2C+Mountain+View%2C+CA&key={API_KEY}\""
   ]
  },
  {
   "cell_type": "code",
   "execution_count": 107,
   "metadata": {
    "tags": []
   },
   "outputs": [],
   "source": [
    "parsed_result = urlparse(url_to_parse) # ParseResult object\n",
    "# print(parsed_result)"
   ]
  },
  {
   "cell_type": "code",
   "execution_count": 108,
   "metadata": {
    "tags": []
   },
   "outputs": [],
   "source": [
    "query_string: str = parsed_result.query\n",
    "# parse_qsl(query_string)\n",
    "# print(type(parse_qsl(query_string)))  # List\n",
    "# print(type(parse_qsl(query_string)[0]))  # Tuple\n",
    "# address_param: str = parse_qsl(query_string)[0][1]\n",
    "# key_param: str = parse_qsl(query_string)[1][1]\n",
    "# print(address_param)\n",
    "# print(key_param)"
   ]
  },
  {
   "cell_type": "code",
   "execution_count": 109,
   "metadata": {
    "tags": []
   },
   "outputs": [],
   "source": [
    "# Convert this list into a dict. This is replicating our url_params Dict above basically\n",
    "query_dict: t.Dict[str, str] = dict(parse_qsl(query_string))\n",
    "# query_dict\n"
   ]
  },
  {
   "cell_type": "code",
   "execution_count": 110,
   "metadata": {
    "tags": []
   },
   "outputs": [],
   "source": [
    "# Let's turn all of this into a functional endpoint\n",
    "base_endpoint: str = f\"{parsed_result.scheme}://{parsed_result.netloc}{parsed_result.path}\"\n",
    "# print(base_endpoint)  # https://maps.googleapis.com/maps/api/geocode/json\n",
    "endpoint: str = f\"{base_endpoint}?{urlencode(query_dict)}\"\n",
    "# endpoint"
   ]
  },
  {
   "cell_type": "markdown",
   "metadata": {},
   "source": [
    "## Places API"
   ]
  },
  {
   "cell_type": "code",
   "execution_count": 111,
   "metadata": {
    "tags": []
   },
   "outputs": [
    {
     "output_type": "execute_result",
     "data": {
      "text/plain": "{'candidates': [{'formatted_address': '2560 W El Camino Real, Mountain View, CA 94040, United States',\n   'geometry': {'location': {'lat': 37.4008824, 'lng': -122.111055},\n    'viewport': {'northeast': {'lat': 37.40223172989272,\n      'lng': -122.1097056201073},\n     'southwest': {'lat': 37.39953207010728, 'lng': -122.1124052798927}}},\n   'name': \"Chili's Grill & Bar\",\n   'place_id': 'ChIJ8ZTVZJmwj4ARQFv0RXspg3A'}],\n 'status': 'OK'}"
     },
     "metadata": {},
     "execution_count": 111
    }
   ],
   "source": [
    "# https://maps.googleapis.com/maps/api/place/findplacefromtext/output?parameters\n",
    "# Let's build our base endpoint\n",
    "lat, lng = (37.4220578, -122.0840897)  # Mountain View for testing only\n",
    "places_base_endpoint: str = \"https://maps.googleapis.com/maps/api/place/findplacefromtext/json\"\n",
    "params: t.Dict = {\n",
    "    \"key\": API_KEY,\n",
    "    \"input\": \"Tex-Mex food\",\n",
    "    \"inputtype\": \"textquery\",  # or, 'phonenumber'\n",
    "    \"fields\": \"formatted_address,name,geometry,place_id\"\n",
    "}\n",
    "# Optional parameters like fields and locationbias can take in latlng coordinates\n",
    "locationbias: str = f\"point:{lat},{lng}\"\n",
    "# Check if circular option is used\n",
    "use_circular: bool = True\n",
    "if use_circular:\n",
    "    radius: int = 1000  # meters\n",
    "    locationbias = f\"circle:{radius}@{lat},{lng}\"\n",
    "\n",
    "# Add locationbias key: value to params\n",
    "params['locationbias'] = locationbias\n",
    "\n",
    "params_encoded: str = urlencode(params)\n",
    "places_endpoint: str = f\"{places_base_endpoint}?{params_encoded}\"\n",
    "# print(places_endpoint)\n",
    "\n",
    "# Let's now try our request with our above details\n",
    "r = requests.get(places_endpoint)\n",
    "r.json()\n"
   ]
  },
  {
   "cell_type": "code",
   "execution_count": 112,
   "metadata": {
    "tags": []
   },
   "outputs": [],
   "source": [
    "# Let's try the Nearby Search request to get multiple results\n",
    "# https://maps.googleapis.com/maps/api/place/nearbysearch/output?parameters\n",
    "places_base_nearby_endpoint: str = \"https://maps.googleapis.com/maps/api/place/nearbysearch/json\"\n",
    "params_nearby: t.Dict = {\n",
    "    \"key\": API_KEY,\n",
    "    \"location\": f\"{lat},{lng}\",\n",
    "    \"radius\": 1500,  # meters\n",
    "    \"keyword\": \"Tex-Mex food\",\n",
    "\n",
    "}\n",
    "params_nearby_encoded: str = urlencode(params_nearby)\n",
    "places_nearby_endpoint: str = f\"{places_base_nearby_endpoint}?{params_nearby_encoded}\"\n",
    "\n",
    "r_nearby = requests.get(places_nearby_endpoint)\n",
    "results: t.List[dict] = r_nearby.json()['results']\n",
    "# print(results)\n",
    "\n"
   ]
  },
  {
   "cell_type": "code",
   "execution_count": 113,
   "metadata": {},
   "outputs": [
    {
     "output_type": "execute_result",
     "data": {
      "text/plain": "{'html_attributions': [],\n 'result': {'formatted_address': '2560 W El Camino Real, Mountain View, CA 94040, USA',\n  'formatted_phone_number': '(650) 941-2227',\n  'name': \"Chili's Grill & Bar\",\n  'rating': 4.1},\n 'status': 'OK'}"
     },
     "metadata": {},
     "execution_count": 113
    }
   ],
   "source": [
    "# Once we get our place either from Place or Nearby request we can\n",
    "# use Place Detail along with place_id for a detail_lookup_request\n",
    "# https://maps.googleapis.com/maps/api/place/details/json?place_id=ChIJN1t_tDeuEmsRUsoyG83frY4&fields=name,rating,formatted_phone_number&key=YOUR_API_KEY\n",
    "place_id: str = \"ChIJ8ZTVZJmwj4ARQFv0RXspg3A\" # Chili's - Or, Australia - \"ChIJN1t_tDeuEmsRUsoyG83frY4\"  \n",
    "places_base_details_endpoint: str = \"https://maps.googleapis.com/maps/api/place/details/json\"\n",
    "params_details = {\n",
    "    \"place_id\": f\"{place_id}\",\n",
    "    \"fields\": \"name,rating,formatted_phone_number,formatted_address\",\n",
    "    \"key\": API_KEY\n",
    "}\n",
    "params_details_encoded: str = urlencode(params_details)\n",
    "places_details_endpoint: str = f\"{places_base_details_endpoint}?{params_details_encoded}\"\n",
    "\n",
    "r_details = requests.get(places_details_endpoint)\n",
    "r_details.json()\n"
   ]
  }
 ]
}